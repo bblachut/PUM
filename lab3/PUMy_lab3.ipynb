{
  "nbformat": 4,
  "nbformat_minor": 0,
  "metadata": {
    "colab": {
      "provenance": []
    },
    "kernelspec": {
      "name": "python3",
      "display_name": "Python 3"
    },
    "language_info": {
      "name": "python"
    }
  },
  "cells": [
    {
      "cell_type": "code",
      "execution_count": 20,
      "metadata": {
        "id": "ZzhZe34UHMNr"
      },
      "outputs": [],
      "source": [
        "import pandas as pd\n",
        "from sklearn.svm import SVC\n",
        "from sklearn.model_selection import train_test_split"
      ]
    },
    {
      "cell_type": "code",
      "source": [
        "df_flame = pd.read_csv(\"flame.txt\", sep=\"\\t\")\n",
        "df_jain = pd.read_csv(\"jain.txt\", sep=\"\\t\")"
      ],
      "metadata": {
        "id": "_6skhc9hIBuI"
      },
      "execution_count": 4,
      "outputs": []
    },
    {
      "cell_type": "code",
      "source": [
        "column_names = [\"x\", \"y\", \"type\"]\n",
        "\n",
        "df_flame.columns = column_names\n",
        "df_jain.columns = column_names"
      ],
      "metadata": {
        "id": "qloLL9MWI4ez"
      },
      "execution_count": 8,
      "outputs": []
    },
    {
      "cell_type": "code",
      "source": [
        "df_flame.info"
      ],
      "metadata": {
        "colab": {
          "base_uri": "https://localhost:8080/"
        },
        "id": "AJuv1spgITaP",
        "outputId": "e6e61c0c-209f-43ae-aaee-c014d9b87f3b"
      },
      "execution_count": 9,
      "outputs": [
        {
          "output_type": "execute_result",
          "data": {
            "text/plain": [
              "<bound method DataFrame.info of         x      y  type\n",
              "0    1.35  26.65     1\n",
              "1    1.40  23.25     2\n",
              "2    0.85  23.05     2\n",
              "3    0.50  22.35     2\n",
              "4    0.65  21.35     2\n",
              "..    ...    ...   ...\n",
              "234  7.50  26.20     1\n",
              "235  7.50  25.65     1\n",
              "236  7.05  25.85     1\n",
              "237  6.90  27.15     1\n",
              "238  6.15  26.90     1\n",
              "\n",
              "[239 rows x 3 columns]>"
            ]
          },
          "metadata": {},
          "execution_count": 9
        }
      ]
    },
    {
      "cell_type": "code",
      "source": [
        "df_jain.info"
      ],
      "metadata": {
        "colab": {
          "base_uri": "https://localhost:8080/"
        },
        "id": "Kf0bl_iOIs9k",
        "outputId": "059b0fa3-5f62-48e9-91c8-d14b311dfff7"
      },
      "execution_count": 10,
      "outputs": [
        {
          "output_type": "execute_result",
          "data": {
            "text/plain": [
              "<bound method DataFrame.info of          x      y  type\n",
              "0     0.75  15.60     2\n",
              "1     3.30  15.45     2\n",
              "2     5.25  14.20     2\n",
              "3     4.90  15.65     2\n",
              "4     5.35  15.85     2\n",
              "..     ...    ...   ...\n",
              "367  38.75  16.85     1\n",
              "368  39.00  16.60     1\n",
              "369  38.25  17.35     1\n",
              "370  39.50  16.95     1\n",
              "371  39.90  17.05     1\n",
              "\n",
              "[372 rows x 3 columns]>"
            ]
          },
          "metadata": {},
          "execution_count": 10
        }
      ]
    },
    {
      "cell_type": "code",
      "source": [
        "for df in (df_flame, df_jain):\n",
        "  X, y = df.iloc[:, 0:-1], df.iloc[:, -1]\n",
        "  X_train, X_test, y_train, y_test = train_test_split(X, y, test_size=0.3, random_state=42)\n",
        "\n",
        "  "
      ],
      "metadata": {
        "id": "H6qnXFxaMJYd"
      },
      "execution_count": 22,
      "outputs": []
    },
    {
      "cell_type": "code",
      "source": [],
      "metadata": {
        "id": "E5E0O9ROLcYz"
      },
      "execution_count": 19,
      "outputs": []
    },
    {
      "cell_type": "code",
      "source": [],
      "metadata": {
        "id": "dHL6Mg8ILj7U"
      },
      "execution_count": null,
      "outputs": []
    }
  ]
}