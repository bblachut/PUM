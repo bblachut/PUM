{
  "cells": [
    {
      "cell_type": "code",
      "execution_count": 1,
      "metadata": {
        "id": "9uy0LFm84ts8"
      },
      "outputs": [],
      "source": [
        "import pandas as pd\n",
        "import numpy as np\n",
        "import matplotlib.pyplot as plt\n",
        "from sklearn.impute import SimpleImputer\n",
        "from sklearn.model_selection import train_test_split\n",
        "from pandas.plotting import scatter_matrix"
      ]
    },
    {
      "cell_type": "code",
      "execution_count": 2,
      "metadata": {
        "id": "LPbUvnhv4ts-"
      },
      "outputs": [],
      "source": [
        "col_names = [f'A{i}' for i in range(1, 17)]\n",
        "df = pd.read_csv('crx.data', names=col_names, header=0)"
      ]
    },
    {
      "cell_type": "code",
      "execution_count": 3,
      "metadata": {
        "id": "8AVMFNU64ts-",
        "colab": {
          "base_uri": "https://localhost:8080/",
          "height": 206
        },
        "outputId": "95f0fcf3-0f6a-48fb-81af-096bec20b1fd"
      },
      "outputs": [
        {
          "output_type": "execute_result",
          "data": {
            "text/plain": [
              "  A1     A2     A3 A4 A5 A6 A7    A8 A9 A10  A11 A12 A13    A14  A15 A16\n",
              "0  a  58.67  4.460  u  g  q  h  3.04  t   t    6   f   g  00043  560   +\n",
              "1  a  24.50  0.500  u  g  q  h  1.50  t   f    0   f   g  00280  824   +\n",
              "2  b  27.83  1.540  u  g  w  v  3.75  t   t    5   t   g  00100    3   +\n",
              "3  b  20.17  5.625  u  g  w  v  1.71  t   f    0   f   s  00120    0   +\n",
              "4  b  32.08  4.000  u  g  m  v  2.50  t   f    0   t   g  00360    0   +"
            ],
            "text/html": [
              "\n",
              "  <div id=\"df-d3a8024a-32b9-4cc5-bdb8-052c6b11174d\">\n",
              "    <div class=\"colab-df-container\">\n",
              "      <div>\n",
              "<style scoped>\n",
              "    .dataframe tbody tr th:only-of-type {\n",
              "        vertical-align: middle;\n",
              "    }\n",
              "\n",
              "    .dataframe tbody tr th {\n",
              "        vertical-align: top;\n",
              "    }\n",
              "\n",
              "    .dataframe thead th {\n",
              "        text-align: right;\n",
              "    }\n",
              "</style>\n",
              "<table border=\"1\" class=\"dataframe\">\n",
              "  <thead>\n",
              "    <tr style=\"text-align: right;\">\n",
              "      <th></th>\n",
              "      <th>A1</th>\n",
              "      <th>A2</th>\n",
              "      <th>A3</th>\n",
              "      <th>A4</th>\n",
              "      <th>A5</th>\n",
              "      <th>A6</th>\n",
              "      <th>A7</th>\n",
              "      <th>A8</th>\n",
              "      <th>A9</th>\n",
              "      <th>A10</th>\n",
              "      <th>A11</th>\n",
              "      <th>A12</th>\n",
              "      <th>A13</th>\n",
              "      <th>A14</th>\n",
              "      <th>A15</th>\n",
              "      <th>A16</th>\n",
              "    </tr>\n",
              "  </thead>\n",
              "  <tbody>\n",
              "    <tr>\n",
              "      <th>0</th>\n",
              "      <td>a</td>\n",
              "      <td>58.67</td>\n",
              "      <td>4.460</td>\n",
              "      <td>u</td>\n",
              "      <td>g</td>\n",
              "      <td>q</td>\n",
              "      <td>h</td>\n",
              "      <td>3.04</td>\n",
              "      <td>t</td>\n",
              "      <td>t</td>\n",
              "      <td>6</td>\n",
              "      <td>f</td>\n",
              "      <td>g</td>\n",
              "      <td>00043</td>\n",
              "      <td>560</td>\n",
              "      <td>+</td>\n",
              "    </tr>\n",
              "    <tr>\n",
              "      <th>1</th>\n",
              "      <td>a</td>\n",
              "      <td>24.50</td>\n",
              "      <td>0.500</td>\n",
              "      <td>u</td>\n",
              "      <td>g</td>\n",
              "      <td>q</td>\n",
              "      <td>h</td>\n",
              "      <td>1.50</td>\n",
              "      <td>t</td>\n",
              "      <td>f</td>\n",
              "      <td>0</td>\n",
              "      <td>f</td>\n",
              "      <td>g</td>\n",
              "      <td>00280</td>\n",
              "      <td>824</td>\n",
              "      <td>+</td>\n",
              "    </tr>\n",
              "    <tr>\n",
              "      <th>2</th>\n",
              "      <td>b</td>\n",
              "      <td>27.83</td>\n",
              "      <td>1.540</td>\n",
              "      <td>u</td>\n",
              "      <td>g</td>\n",
              "      <td>w</td>\n",
              "      <td>v</td>\n",
              "      <td>3.75</td>\n",
              "      <td>t</td>\n",
              "      <td>t</td>\n",
              "      <td>5</td>\n",
              "      <td>t</td>\n",
              "      <td>g</td>\n",
              "      <td>00100</td>\n",
              "      <td>3</td>\n",
              "      <td>+</td>\n",
              "    </tr>\n",
              "    <tr>\n",
              "      <th>3</th>\n",
              "      <td>b</td>\n",
              "      <td>20.17</td>\n",
              "      <td>5.625</td>\n",
              "      <td>u</td>\n",
              "      <td>g</td>\n",
              "      <td>w</td>\n",
              "      <td>v</td>\n",
              "      <td>1.71</td>\n",
              "      <td>t</td>\n",
              "      <td>f</td>\n",
              "      <td>0</td>\n",
              "      <td>f</td>\n",
              "      <td>s</td>\n",
              "      <td>00120</td>\n",
              "      <td>0</td>\n",
              "      <td>+</td>\n",
              "    </tr>\n",
              "    <tr>\n",
              "      <th>4</th>\n",
              "      <td>b</td>\n",
              "      <td>32.08</td>\n",
              "      <td>4.000</td>\n",
              "      <td>u</td>\n",
              "      <td>g</td>\n",
              "      <td>m</td>\n",
              "      <td>v</td>\n",
              "      <td>2.50</td>\n",
              "      <td>t</td>\n",
              "      <td>f</td>\n",
              "      <td>0</td>\n",
              "      <td>t</td>\n",
              "      <td>g</td>\n",
              "      <td>00360</td>\n",
              "      <td>0</td>\n",
              "      <td>+</td>\n",
              "    </tr>\n",
              "  </tbody>\n",
              "</table>\n",
              "</div>\n",
              "      <button class=\"colab-df-convert\" onclick=\"convertToInteractive('df-d3a8024a-32b9-4cc5-bdb8-052c6b11174d')\"\n",
              "              title=\"Convert this dataframe to an interactive table.\"\n",
              "              style=\"display:none;\">\n",
              "        \n",
              "  <svg xmlns=\"http://www.w3.org/2000/svg\" height=\"24px\"viewBox=\"0 0 24 24\"\n",
              "       width=\"24px\">\n",
              "    <path d=\"M0 0h24v24H0V0z\" fill=\"none\"/>\n",
              "    <path d=\"M18.56 5.44l.94 2.06.94-2.06 2.06-.94-2.06-.94-.94-2.06-.94 2.06-2.06.94zm-11 1L8.5 8.5l.94-2.06 2.06-.94-2.06-.94L8.5 2.5l-.94 2.06-2.06.94zm10 10l.94 2.06.94-2.06 2.06-.94-2.06-.94-.94-2.06-.94 2.06-2.06.94z\"/><path d=\"M17.41 7.96l-1.37-1.37c-.4-.4-.92-.59-1.43-.59-.52 0-1.04.2-1.43.59L10.3 9.45l-7.72 7.72c-.78.78-.78 2.05 0 2.83L4 21.41c.39.39.9.59 1.41.59.51 0 1.02-.2 1.41-.59l7.78-7.78 2.81-2.81c.8-.78.8-2.07 0-2.86zM5.41 20L4 18.59l7.72-7.72 1.47 1.35L5.41 20z\"/>\n",
              "  </svg>\n",
              "      </button>\n",
              "      \n",
              "  <style>\n",
              "    .colab-df-container {\n",
              "      display:flex;\n",
              "      flex-wrap:wrap;\n",
              "      gap: 12px;\n",
              "    }\n",
              "\n",
              "    .colab-df-convert {\n",
              "      background-color: #E8F0FE;\n",
              "      border: none;\n",
              "      border-radius: 50%;\n",
              "      cursor: pointer;\n",
              "      display: none;\n",
              "      fill: #1967D2;\n",
              "      height: 32px;\n",
              "      padding: 0 0 0 0;\n",
              "      width: 32px;\n",
              "    }\n",
              "\n",
              "    .colab-df-convert:hover {\n",
              "      background-color: #E2EBFA;\n",
              "      box-shadow: 0px 1px 2px rgba(60, 64, 67, 0.3), 0px 1px 3px 1px rgba(60, 64, 67, 0.15);\n",
              "      fill: #174EA6;\n",
              "    }\n",
              "\n",
              "    [theme=dark] .colab-df-convert {\n",
              "      background-color: #3B4455;\n",
              "      fill: #D2E3FC;\n",
              "    }\n",
              "\n",
              "    [theme=dark] .colab-df-convert:hover {\n",
              "      background-color: #434B5C;\n",
              "      box-shadow: 0px 1px 3px 1px rgba(0, 0, 0, 0.15);\n",
              "      filter: drop-shadow(0px 1px 2px rgba(0, 0, 0, 0.3));\n",
              "      fill: #FFFFFF;\n",
              "    }\n",
              "  </style>\n",
              "\n",
              "      <script>\n",
              "        const buttonEl =\n",
              "          document.querySelector('#df-d3a8024a-32b9-4cc5-bdb8-052c6b11174d button.colab-df-convert');\n",
              "        buttonEl.style.display =\n",
              "          google.colab.kernel.accessAllowed ? 'block' : 'none';\n",
              "\n",
              "        async function convertToInteractive(key) {\n",
              "          const element = document.querySelector('#df-d3a8024a-32b9-4cc5-bdb8-052c6b11174d');\n",
              "          const dataTable =\n",
              "            await google.colab.kernel.invokeFunction('convertToInteractive',\n",
              "                                                     [key], {});\n",
              "          if (!dataTable) return;\n",
              "\n",
              "          const docLinkHtml = 'Like what you see? Visit the ' +\n",
              "            '<a target=\"_blank\" href=https://colab.research.google.com/notebooks/data_table.ipynb>data table notebook</a>'\n",
              "            + ' to learn more about interactive tables.';\n",
              "          element.innerHTML = '';\n",
              "          dataTable['output_type'] = 'display_data';\n",
              "          await google.colab.output.renderOutput(dataTable, element);\n",
              "          const docLink = document.createElement('div');\n",
              "          docLink.innerHTML = docLinkHtml;\n",
              "          element.appendChild(docLink);\n",
              "        }\n",
              "      </script>\n",
              "    </div>\n",
              "  </div>\n",
              "  "
            ]
          },
          "metadata": {},
          "execution_count": 3
        }
      ],
      "source": [
        "df.head()"
      ]
    },
    {
      "cell_type": "code",
      "execution_count": 4,
      "metadata": {
        "id": "ysCB5OL14ttF"
      },
      "outputs": [],
      "source": [
        "def preprocess(df):\n",
        "  df = df.replace('?', np.NaN)\n",
        "  df = df.replace({'A1': {'a': 1, 'b': 0}, 'A9': {'t': 1, 'f': 1}, 'A10': {'t': 1, 'f': 1}, 'A12': {'t': 1, 'f': 1}, 'A16': {'+': 1, '-': 0}})\n",
        "  df = df.astype({'A1': 'boolean', 'A2': 'float64', 'A3': 'float64', 'A8': 'float64', 'A9': 'boolean', 'A10': 'boolean', 'A11': 'Int64', 'A12': 'boolean', 'A14': 'Int64', 'A15': 'Int64', 'A16': 'boolean'})\n",
        "  return df"
      ]
    },
    {
      "cell_type": "code",
      "source": [
        "df = preprocess(df)"
      ],
      "metadata": {
        "id": "LS5Z0HvgANy7"
      },
      "execution_count": 5,
      "outputs": []
    },
    {
      "cell_type": "code",
      "source": [
        "df.info()"
      ],
      "metadata": {
        "id": "wENnayaf_19s",
        "colab": {
          "base_uri": "https://localhost:8080/"
        },
        "outputId": "359af54e-dbe0-48b2-8109-73eafe164eca"
      },
      "execution_count": 6,
      "outputs": [
        {
          "output_type": "stream",
          "name": "stdout",
          "text": [
            "<class 'pandas.core.frame.DataFrame'>\n",
            "RangeIndex: 689 entries, 0 to 688\n",
            "Data columns (total 16 columns):\n",
            " #   Column  Non-Null Count  Dtype  \n",
            "---  ------  --------------  -----  \n",
            " 0   A1      677 non-null    boolean\n",
            " 1   A2      677 non-null    float64\n",
            " 2   A3      689 non-null    float64\n",
            " 3   A4      683 non-null    object \n",
            " 4   A5      683 non-null    object \n",
            " 5   A6      680 non-null    object \n",
            " 6   A7      680 non-null    object \n",
            " 7   A8      689 non-null    float64\n",
            " 8   A9      689 non-null    boolean\n",
            " 9   A10     689 non-null    boolean\n",
            " 10  A11     689 non-null    Int64  \n",
            " 11  A12     689 non-null    boolean\n",
            " 12  A13     689 non-null    object \n",
            " 13  A14     676 non-null    Int64  \n",
            " 14  A15     689 non-null    Int64  \n",
            " 15  A16     689 non-null    boolean\n",
            "dtypes: Int64(3), boolean(5), float64(3), object(5)\n",
            "memory usage: 68.1+ KB\n"
          ]
        }
      ]
    },
    {
      "cell_type": "code",
      "execution_count": 7,
      "metadata": {
        "id": "VgAHJrv_4ts_",
        "colab": {
          "base_uri": "https://localhost:8080/"
        },
        "outputId": "1cf03743-62e1-4bcf-ae4e-bc9bb457c8e9"
      },
      "outputs": [
        {
          "output_type": "execute_result",
          "data": {
            "text/plain": [
              "A1     12\n",
              "A2     12\n",
              "A3      0\n",
              "A4      6\n",
              "A5      6\n",
              "A6      9\n",
              "A7      9\n",
              "A8      0\n",
              "A9      0\n",
              "A10     0\n",
              "A11     0\n",
              "A12     0\n",
              "A13     0\n",
              "A14    13\n",
              "A15     0\n",
              "A16     0\n",
              "dtype: int64"
            ]
          },
          "metadata": {},
          "execution_count": 7
        }
      ],
      "source": [
        "df.isnull().sum()"
      ]
    },
    {
      "cell_type": "code",
      "execution_count": 8,
      "metadata": {
        "id": "QhYRjaJy4ttE",
        "colab": {
          "base_uri": "https://localhost:8080/"
        },
        "outputId": "5c7d59f1-8c8d-41ec-ac1d-62f5c8347a13"
      },
      "outputs": [
        {
          "output_type": "execute_result",
          "data": {
            "text/plain": [
              "37"
            ]
          },
          "metadata": {},
          "execution_count": 8
        }
      ],
      "source": [
        "df.isnull().any(axis=1).sum()"
      ]
    },
    {
      "cell_type": "markdown",
      "source": [
        "dane z nullami można wydropić bo jest ich mniej niż 5%, ale uzupełnimy medianą (numeryczne) i modą (kategoryczne), bo to nadal dośc mały zbiór danych"
      ],
      "metadata": {
        "id": "QmHxZNxu5KWv"
      }
    },
    {
      "cell_type": "code",
      "source": [
        "def handle_nulls(df):\n",
        "  imputer_mean = SimpleImputer(missing_values=np.nan, strategy='median')\n",
        "  numerical = ['A1', 'A2', 'A3', 'A8', 'A9', 'A10', 'A11', 'A12', 'A14', 'A15', 'A16']\n",
        "  df_numerical = df[numerical]\n",
        "  imputer_mean.fit(df_numerical)\n",
        "  df[numerical] = imputer_mean.transform(df_numerical)\n",
        "\n",
        "  imputer_mode = SimpleImputer(missing_values=np.nan, strategy='most_frequent')\n",
        "  categorical = ['A4', 'A5', 'A6', 'A7', 'A13']\n",
        "  df_categorical = df[categorical]\n",
        "  imputer_mode.fit(df_categorical)\n",
        "  df[categorical] = imputer_mode.transform(df_categorical)\n",
        "\n",
        "  return df"
      ],
      "metadata": {
        "id": "aM8fN40dBhOu"
      },
      "execution_count": 9,
      "outputs": []
    },
    {
      "cell_type": "code",
      "source": [
        "df = handle_nulls(df)"
      ],
      "metadata": {
        "id": "FCi242GjCmXj"
      },
      "execution_count": 10,
      "outputs": []
    },
    {
      "cell_type": "code",
      "source": [
        "df.isnull().sum()"
      ],
      "metadata": {
        "id": "4lyzqyudCqgU",
        "colab": {
          "base_uri": "https://localhost:8080/"
        },
        "outputId": "afb881e6-7cd1-4d18-a676-c0d18f8a32de"
      },
      "execution_count": 11,
      "outputs": [
        {
          "output_type": "execute_result",
          "data": {
            "text/plain": [
              "A1     0\n",
              "A2     0\n",
              "A3     0\n",
              "A4     0\n",
              "A5     0\n",
              "A6     0\n",
              "A7     0\n",
              "A8     0\n",
              "A9     0\n",
              "A10    0\n",
              "A11    0\n",
              "A12    0\n",
              "A13    0\n",
              "A14    0\n",
              "A15    0\n",
              "A16    0\n",
              "dtype: int64"
            ]
          },
          "metadata": {},
          "execution_count": 11
        }
      ]
    },
    {
      "cell_type": "code",
      "source": [
        "df.isnull().any(axis=1).sum()"
      ],
      "metadata": {
        "id": "xtTKZr8kDbjq",
        "colab": {
          "base_uri": "https://localhost:8080/"
        },
        "outputId": "486b973f-0b6f-422c-e042-5d8b872661ab"
      },
      "execution_count": 12,
      "outputs": [
        {
          "output_type": "execute_result",
          "data": {
            "text/plain": [
              "0"
            ]
          },
          "metadata": {},
          "execution_count": 12
        }
      ]
    },
    {
      "cell_type": "code",
      "source": [
        "scatter_matrix(df)"
      ],
      "metadata": {
        "id": "wxoR7JzaD7CG",
        "colab": {
          "base_uri": "https://localhost:8080/",
          "height": 1000
        },
        "outputId": "7903cba2-cd88-4677-8810-bde88e827eb8"
      },
      "execution_count": 13,
      "outputs": [
        {
          "output_type": "stream",
          "name": "stderr",
          "text": [
            "/usr/local/lib/python3.9/dist-packages/pandas/plotting/_matplotlib/misc.py:100: UserWarning: Attempting to set identical low and high xlims makes transformation singular; automatically expanding.\n",
            "  ax.set_xlim(boundaries_list[j])\n",
            "/usr/local/lib/python3.9/dist-packages/pandas/plotting/_matplotlib/misc.py:101: UserWarning: Attempting to set identical low and high ylims makes transformation singular; automatically expanding.\n",
            "  ax.set_ylim(boundaries_list[i])\n",
            "/usr/local/lib/python3.9/dist-packages/pandas/plotting/_matplotlib/misc.py:91: UserWarning: Attempting to set identical low and high xlims makes transformation singular; automatically expanding.\n",
            "  ax.set_xlim(boundaries_list[i])\n"
          ]
        },
        {
          "output_type": "execute_result",
          "data": {
            "text/plain": [
              "array([[<Axes: xlabel='A1', ylabel='A1'>,\n",
              "        <Axes: xlabel='A2', ylabel='A1'>,\n",
              "        <Axes: xlabel='A3', ylabel='A1'>,\n",
              "        <Axes: xlabel='A8', ylabel='A1'>,\n",
              "        <Axes: xlabel='A9', ylabel='A1'>,\n",
              "        <Axes: xlabel='A10', ylabel='A1'>,\n",
              "        <Axes: xlabel='A11', ylabel='A1'>,\n",
              "        <Axes: xlabel='A12', ylabel='A1'>,\n",
              "        <Axes: xlabel='A14', ylabel='A1'>,\n",
              "        <Axes: xlabel='A15', ylabel='A1'>,\n",
              "        <Axes: xlabel='A16', ylabel='A1'>],\n",
              "       [<Axes: xlabel='A1', ylabel='A2'>,\n",
              "        <Axes: xlabel='A2', ylabel='A2'>,\n",
              "        <Axes: xlabel='A3', ylabel='A2'>,\n",
              "        <Axes: xlabel='A8', ylabel='A2'>,\n",
              "        <Axes: xlabel='A9', ylabel='A2'>,\n",
              "        <Axes: xlabel='A10', ylabel='A2'>,\n",
              "        <Axes: xlabel='A11', ylabel='A2'>,\n",
              "        <Axes: xlabel='A12', ylabel='A2'>,\n",
              "        <Axes: xlabel='A14', ylabel='A2'>,\n",
              "        <Axes: xlabel='A15', ylabel='A2'>,\n",
              "        <Axes: xlabel='A16', ylabel='A2'>],\n",
              "       [<Axes: xlabel='A1', ylabel='A3'>,\n",
              "        <Axes: xlabel='A2', ylabel='A3'>,\n",
              "        <Axes: xlabel='A3', ylabel='A3'>,\n",
              "        <Axes: xlabel='A8', ylabel='A3'>,\n",
              "        <Axes: xlabel='A9', ylabel='A3'>,\n",
              "        <Axes: xlabel='A10', ylabel='A3'>,\n",
              "        <Axes: xlabel='A11', ylabel='A3'>,\n",
              "        <Axes: xlabel='A12', ylabel='A3'>,\n",
              "        <Axes: xlabel='A14', ylabel='A3'>,\n",
              "        <Axes: xlabel='A15', ylabel='A3'>,\n",
              "        <Axes: xlabel='A16', ylabel='A3'>],\n",
              "       [<Axes: xlabel='A1', ylabel='A8'>,\n",
              "        <Axes: xlabel='A2', ylabel='A8'>,\n",
              "        <Axes: xlabel='A3', ylabel='A8'>,\n",
              "        <Axes: xlabel='A8', ylabel='A8'>,\n",
              "        <Axes: xlabel='A9', ylabel='A8'>,\n",
              "        <Axes: xlabel='A10', ylabel='A8'>,\n",
              "        <Axes: xlabel='A11', ylabel='A8'>,\n",
              "        <Axes: xlabel='A12', ylabel='A8'>,\n",
              "        <Axes: xlabel='A14', ylabel='A8'>,\n",
              "        <Axes: xlabel='A15', ylabel='A8'>,\n",
              "        <Axes: xlabel='A16', ylabel='A8'>],\n",
              "       [<Axes: xlabel='A1', ylabel='A9'>,\n",
              "        <Axes: xlabel='A2', ylabel='A9'>,\n",
              "        <Axes: xlabel='A3', ylabel='A9'>,\n",
              "        <Axes: xlabel='A8', ylabel='A9'>,\n",
              "        <Axes: xlabel='A9', ylabel='A9'>,\n",
              "        <Axes: xlabel='A10', ylabel='A9'>,\n",
              "        <Axes: xlabel='A11', ylabel='A9'>,\n",
              "        <Axes: xlabel='A12', ylabel='A9'>,\n",
              "        <Axes: xlabel='A14', ylabel='A9'>,\n",
              "        <Axes: xlabel='A15', ylabel='A9'>,\n",
              "        <Axes: xlabel='A16', ylabel='A9'>],\n",
              "       [<Axes: xlabel='A1', ylabel='A10'>,\n",
              "        <Axes: xlabel='A2', ylabel='A10'>,\n",
              "        <Axes: xlabel='A3', ylabel='A10'>,\n",
              "        <Axes: xlabel='A8', ylabel='A10'>,\n",
              "        <Axes: xlabel='A9', ylabel='A10'>,\n",
              "        <Axes: xlabel='A10', ylabel='A10'>,\n",
              "        <Axes: xlabel='A11', ylabel='A10'>,\n",
              "        <Axes: xlabel='A12', ylabel='A10'>,\n",
              "        <Axes: xlabel='A14', ylabel='A10'>,\n",
              "        <Axes: xlabel='A15', ylabel='A10'>,\n",
              "        <Axes: xlabel='A16', ylabel='A10'>],\n",
              "       [<Axes: xlabel='A1', ylabel='A11'>,\n",
              "        <Axes: xlabel='A2', ylabel='A11'>,\n",
              "        <Axes: xlabel='A3', ylabel='A11'>,\n",
              "        <Axes: xlabel='A8', ylabel='A11'>,\n",
              "        <Axes: xlabel='A9', ylabel='A11'>,\n",
              "        <Axes: xlabel='A10', ylabel='A11'>,\n",
              "        <Axes: xlabel='A11', ylabel='A11'>,\n",
              "        <Axes: xlabel='A12', ylabel='A11'>,\n",
              "        <Axes: xlabel='A14', ylabel='A11'>,\n",
              "        <Axes: xlabel='A15', ylabel='A11'>,\n",
              "        <Axes: xlabel='A16', ylabel='A11'>],\n",
              "       [<Axes: xlabel='A1', ylabel='A12'>,\n",
              "        <Axes: xlabel='A2', ylabel='A12'>,\n",
              "        <Axes: xlabel='A3', ylabel='A12'>,\n",
              "        <Axes: xlabel='A8', ylabel='A12'>,\n",
              "        <Axes: xlabel='A9', ylabel='A12'>,\n",
              "        <Axes: xlabel='A10', ylabel='A12'>,\n",
              "        <Axes: xlabel='A11', ylabel='A12'>,\n",
              "        <Axes: xlabel='A12', ylabel='A12'>,\n",
              "        <Axes: xlabel='A14', ylabel='A12'>,\n",
              "        <Axes: xlabel='A15', ylabel='A12'>,\n",
              "        <Axes: xlabel='A16', ylabel='A12'>],\n",
              "       [<Axes: xlabel='A1', ylabel='A14'>,\n",
              "        <Axes: xlabel='A2', ylabel='A14'>,\n",
              "        <Axes: xlabel='A3', ylabel='A14'>,\n",
              "        <Axes: xlabel='A8', ylabel='A14'>,\n",
              "        <Axes: xlabel='A9', ylabel='A14'>,\n",
              "        <Axes: xlabel='A10', ylabel='A14'>,\n",
              "        <Axes: xlabel='A11', ylabel='A14'>,\n",
              "        <Axes: xlabel='A12', ylabel='A14'>,\n",
              "        <Axes: xlabel='A14', ylabel='A14'>,\n",
              "        <Axes: xlabel='A15', ylabel='A14'>,\n",
              "        <Axes: xlabel='A16', ylabel='A14'>],\n",
              "       [<Axes: xlabel='A1', ylabel='A15'>,\n",
              "        <Axes: xlabel='A2', ylabel='A15'>,\n",
              "        <Axes: xlabel='A3', ylabel='A15'>,\n",
              "        <Axes: xlabel='A8', ylabel='A15'>,\n",
              "        <Axes: xlabel='A9', ylabel='A15'>,\n",
              "        <Axes: xlabel='A10', ylabel='A15'>,\n",
              "        <Axes: xlabel='A11', ylabel='A15'>,\n",
              "        <Axes: xlabel='A12', ylabel='A15'>,\n",
              "        <Axes: xlabel='A14', ylabel='A15'>,\n",
              "        <Axes: xlabel='A15', ylabel='A15'>,\n",
              "        <Axes: xlabel='A16', ylabel='A15'>],\n",
              "       [<Axes: xlabel='A1', ylabel='A16'>,\n",
              "        <Axes: xlabel='A2', ylabel='A16'>,\n",
              "        <Axes: xlabel='A3', ylabel='A16'>,\n",
              "        <Axes: xlabel='A8', ylabel='A16'>,\n",
              "        <Axes: xlabel='A9', ylabel='A16'>,\n",
              "        <Axes: xlabel='A10', ylabel='A16'>,\n",
              "        <Axes: xlabel='A11', ylabel='A16'>,\n",
              "        <Axes: xlabel='A12', ylabel='A16'>,\n",
              "        <Axes: xlabel='A14', ylabel='A16'>,\n",
              "        <Axes: xlabel='A15', ylabel='A16'>,\n",
              "        <Axes: xlabel='A16', ylabel='A16'>]], dtype=object)"
            ]
          },
          "metadata": {},
          "execution_count": 13
        },
        {
          "output_type": "display_data",
          "data": {
            "text/plain": [
              "<Figure size 640x480 with 121 Axes>"
            ],
            "image/png": "[encoded data removed]"
          },
          "metadata": {}
        }
      ]
    },
    {
      "cell_type": "code",
      "source": [
        "def one_hot_encoding(df):\n",
        "  to_encode = ['A4', 'A5', 'A6', 'A7', 'A13']\n",
        "  for column in to_encode:\n",
        "    dummies = pd.get_dummies(df[[column]], prefix=column)\n",
        "    df = pd.concat([df, dummies], axis=1)\n",
        "    df = df.drop([column], axis=1)\n",
        "  \n",
        "  return df"
      ],
      "metadata": {
        "id": "xMGmjk6uHzxN"
      },
      "execution_count": 14,
      "outputs": []
    },
    {
      "cell_type": "code",
      "source": [
        "df = one_hot_encoding(df)\n",
        "df.head()"
      ],
      "metadata": {
        "colab": {
          "base_uri": "https://localhost:8080/",
          "height": 236
        },
        "id": "fNgOZ9KqIj_6",
        "outputId": "867213bb-8f33-41b5-c859-b20fe0f1086f"
      },
      "execution_count": 15,
      "outputs": [
        {
          "output_type": "execute_result",
          "data": {
            "text/plain": [
              "    A1     A2     A3    A8   A9  A10  A11  A12    A14    A15  ...  A7_ff  \\\n",
              "0  1.0  58.67  4.460  3.04  1.0  1.0  6.0  1.0   43.0  560.0  ...      0   \n",
              "1  1.0  24.50  0.500  1.50  1.0  1.0  0.0  1.0  280.0  824.0  ...      0   \n",
              "2  0.0  27.83  1.540  3.75  1.0  1.0  5.0  1.0  100.0    3.0  ...      0   \n",
              "3  0.0  20.17  5.625  1.71  1.0  1.0  0.0  1.0  120.0    0.0  ...      0   \n",
              "4  0.0  32.08  4.000  2.50  1.0  1.0  0.0  1.0  360.0    0.0  ...      0   \n",
              "\n",
              "   A7_h  A7_j  A7_n  A7_o  A7_v  A7_z  A13_g  A13_p  A13_s  \n",
              "0     1     0     0     0     0     0      1      0      0  \n",
              "1     1     0     0     0     0     0      1      0      0  \n",
              "2     0     0     0     0     1     0      1      0      0  \n",
              "3     0     0     0     0     1     0      0      0      1  \n",
              "4     0     0     0     0     1     0      1      0      0  \n",
              "\n",
              "[5 rows x 43 columns]"
            ],
            "text/html": [
              "\n",
              "  <div id=\"df-36fb538a-52bf-42a2-9d52-4674b79cbaa6\">\n",
              "    <div class=\"colab-df-container\">\n",
              "      <div>\n",
              "<style scoped>\n",
              "    .dataframe tbody tr th:only-of-type {\n",
              "        vertical-align: middle;\n",
              "    }\n",
              "\n",
              "    .dataframe tbody tr th {\n",
              "        vertical-align: top;\n",
              "    }\n",
              "\n",
              "    .dataframe thead th {\n",
              "        text-align: right;\n",
              "    }\n",
              "</style>\n",
              "<table border=\"1\" class=\"dataframe\">\n",
              "  <thead>\n",
              "    <tr style=\"text-align: right;\">\n",
              "      <th></th>\n",
              "      <th>A1</th>\n",
              "      <th>A2</th>\n",
              "      <th>A3</th>\n",
              "      <th>A8</th>\n",
              "      <th>A9</th>\n",
              "      <th>A10</th>\n",
              "      <th>A11</th>\n",
              "      <th>A12</th>\n",
              "      <th>A14</th>\n",
              "      <th>A15</th>\n",
              "      <th>...</th>\n",
              "      <th>A7_ff</th>\n",
              "      <th>A7_h</th>\n",
              "      <th>A7_j</th>\n",
              "      <th>A7_n</th>\n",
              "      <th>A7_o</th>\n",
              "      <th>A7_v</th>\n",
              "      <th>A7_z</th>\n",
              "      <th>A13_g</th>\n",
              "      <th>A13_p</th>\n",
              "      <th>A13_s</th>\n",
              "    </tr>\n",
              "  </thead>\n",
              "  <tbody>\n",
              "    <tr>\n",
              "      <th>0</th>\n",
              "      <td>1.0</td>\n",
              "      <td>58.67</td>\n",
              "      <td>4.460</td>\n",
              "      <td>3.04</td>\n",
              "      <td>1.0</td>\n",
              "      <td>1.0</td>\n",
              "      <td>6.0</td>\n",
              "      <td>1.0</td>\n",
              "      <td>43.0</td>\n",
              "      <td>560.0</td>\n",
              "      <td>...</td>\n",
              "      <td>0</td>\n",
              "      <td>1</td>\n",
              "      <td>0</td>\n",
              "      <td>0</td>\n",
              "      <td>0</td>\n",
              "      <td>0</td>\n",
              "      <td>0</td>\n",
              "      <td>1</td>\n",
              "      <td>0</td>\n",
              "      <td>0</td>\n",
              "    </tr>\n",
              "    <tr>\n",
              "      <th>1</th>\n",
              "      <td>1.0</td>\n",
              "      <td>24.50</td>\n",
              "      <td>0.500</td>\n",
              "      <td>1.50</td>\n",
              "      <td>1.0</td>\n",
              "      <td>1.0</td>\n",
              "      <td>0.0</td>\n",
              "      <td>1.0</td>\n",
              "      <td>280.0</td>\n",
              "      <td>824.0</td>\n",
              "      <td>...</td>\n",
              "      <td>0</td>\n",
              "      <td>1</td>\n",
              "      <td>0</td>\n",
              "      <td>0</td>\n",
              "      <td>0</td>\n",
              "      <td>0</td>\n",
              "      <td>0</td>\n",
              "      <td>1</td>\n",
              "      <td>0</td>\n",
              "      <td>0</td>\n",
              "    </tr>\n",
              "    <tr>\n",
              "      <th>2</th>\n",
              "      <td>0.0</td>\n",
              "      <td>27.83</td>\n",
              "      <td>1.540</td>\n",
              "      <td>3.75</td>\n",
              "      <td>1.0</td>\n",
              "      <td>1.0</td>\n",
              "      <td>5.0</td>\n",
              "      <td>1.0</td>\n",
              "      <td>100.0</td>\n",
              "      <td>3.0</td>\n",
              "      <td>...</td>\n",
              "      <td>0</td>\n",
              "      <td>0</td>\n",
              "      <td>0</td>\n",
              "      <td>0</td>\n",
              "      <td>0</td>\n",
              "      <td>1</td>\n",
              "      <td>0</td>\n",
              "      <td>1</td>\n",
              "      <td>0</td>\n",
              "      <td>0</td>\n",
              "    </tr>\n",
              "    <tr>\n",
              "      <th>3</th>\n",
              "      <td>0.0</td>\n",
              "      <td>20.17</td>\n",
              "      <td>5.625</td>\n",
              "      <td>1.71</td>\n",
              "      <td>1.0</td>\n",
              "      <td>1.0</td>\n",
              "      <td>0.0</td>\n",
              "      <td>1.0</td>\n",
              "      <td>120.0</td>\n",
              "      <td>0.0</td>\n",
              "      <td>...</td>\n",
              "      <td>0</td>\n",
              "      <td>0</td>\n",
              "      <td>0</td>\n",
              "      <td>0</td>\n",
              "      <td>0</td>\n",
              "      <td>1</td>\n",
              "      <td>0</td>\n",
              "      <td>0</td>\n",
              "      <td>0</td>\n",
              "      <td>1</td>\n",
              "    </tr>\n",
              "    <tr>\n",
              "      <th>4</th>\n",
              "      <td>0.0</td>\n",
              "      <td>32.08</td>\n",
              "      <td>4.000</td>\n",
              "      <td>2.50</td>\n",
              "      <td>1.0</td>\n",
              "      <td>1.0</td>\n",
              "      <td>0.0</td>\n",
              "      <td>1.0</td>\n",
              "      <td>360.0</td>\n",
              "      <td>0.0</td>\n",
              "      <td>...</td>\n",
              "      <td>0</td>\n",
              "      <td>0</td>\n",
              "      <td>0</td>\n",
              "      <td>0</td>\n",
              "      <td>0</td>\n",
              "      <td>1</td>\n",
              "      <td>0</td>\n",
              "      <td>1</td>\n",
              "      <td>0</td>\n",
              "      <td>0</td>\n",
              "    </tr>\n",
              "  </tbody>\n",
              "</table>\n",
              "<p>5 rows × 43 columns</p>\n",
              "</div>\n",
              "      <button class=\"colab-df-convert\" onclick=\"convertToInteractive('df-36fb538a-52bf-42a2-9d52-4674b79cbaa6')\"\n",
              "              title=\"Convert this dataframe to an interactive table.\"\n",
              "              style=\"display:none;\">\n",
              "        \n",
              "  <svg xmlns=\"http://www.w3.org/2000/svg\" height=\"24px\"viewBox=\"0 0 24 24\"\n",
              "       width=\"24px\">\n",
              "    <path d=\"M0 0h24v24H0V0z\" fill=\"none\"/>\n",
              "    <path d=\"M18.56 5.44l.94 2.06.94-2.06 2.06-.94-2.06-.94-.94-2.06-.94 2.06-2.06.94zm-11 1L8.5 8.5l.94-2.06 2.06-.94-2.06-.94L8.5 2.5l-.94 2.06-2.06.94zm10 10l.94 2.06.94-2.06 2.06-.94-2.06-.94-.94-2.06-.94 2.06-2.06.94z\"/><path d=\"M17.41 7.96l-1.37-1.37c-.4-.4-.92-.59-1.43-.59-.52 0-1.04.2-1.43.59L10.3 9.45l-7.72 7.72c-.78.78-.78 2.05 0 2.83L4 21.41c.39.39.9.59 1.41.59.51 0 1.02-.2 1.41-.59l7.78-7.78 2.81-2.81c.8-.78.8-2.07 0-2.86zM5.41 20L4 18.59l7.72-7.72 1.47 1.35L5.41 20z\"/>\n",
              "  </svg>\n",
              "      </button>\n",
              "      \n",
              "  <style>\n",
              "    .colab-df-container {\n",
              "      display:flex;\n",
              "      flex-wrap:wrap;\n",
              "      gap: 12px;\n",
              "    }\n",
              "\n",
              "    .colab-df-convert {\n",
              "      background-color: #E8F0FE;\n",
              "      border: none;\n",
              "      border-radius: 50%;\n",
              "      cursor: pointer;\n",
              "      display: none;\n",
              "      fill: #1967D2;\n",
              "      height: 32px;\n",
              "      padding: 0 0 0 0;\n",
              "      width: 32px;\n",
              "    }\n",
              "\n",
              "    .colab-df-convert:hover {\n",
              "      background-color: #E2EBFA;\n",
              "      box-shadow: 0px 1px 2px rgba(60, 64, 67, 0.3), 0px 1px 3px 1px rgba(60, 64, 67, 0.15);\n",
              "      fill: #174EA6;\n",
              "    }\n",
              "\n",
              "    [theme=dark] .colab-df-convert {\n",
              "      background-color: #3B4455;\n",
              "      fill: #D2E3FC;\n",
              "    }\n",
              "\n",
              "    [theme=dark] .colab-df-convert:hover {\n",
              "      background-color: #434B5C;\n",
              "      box-shadow: 0px 1px 3px 1px rgba(0, 0, 0, 0.15);\n",
              "      filter: drop-shadow(0px 1px 2px rgba(0, 0, 0, 0.3));\n",
              "      fill: #FFFFFF;\n",
              "    }\n",
              "  </style>\n",
              "\n",
              "      <script>\n",
              "        const buttonEl =\n",
              "          document.querySelector('#df-36fb538a-52bf-42a2-9d52-4674b79cbaa6 button.colab-df-convert');\n",
              "        buttonEl.style.display =\n",
              "          google.colab.kernel.accessAllowed ? 'block' : 'none';\n",
              "\n",
              "        async function convertToInteractive(key) {\n",
              "          const element = document.querySelector('#df-36fb538a-52bf-42a2-9d52-4674b79cbaa6');\n",
              "          const dataTable =\n",
              "            await google.colab.kernel.invokeFunction('convertToInteractive',\n",
              "                                                     [key], {});\n",
              "          if (!dataTable) return;\n",
              "\n",
              "          const docLinkHtml = 'Like what you see? Visit the ' +\n",
              "            '<a target=\"_blank\" href=https://colab.research.google.com/notebooks/data_table.ipynb>data table notebook</a>'\n",
              "            + ' to learn more about interactive tables.';\n",
              "          element.innerHTML = '';\n",
              "          dataTable['output_type'] = 'display_data';\n",
              "          await google.colab.output.renderOutput(dataTable, element);\n",
              "          const docLink = document.createElement('div');\n",
              "          docLink.innerHTML = docLinkHtml;\n",
              "          element.appendChild(docLink);\n",
              "        }\n",
              "      </script>\n",
              "    </div>\n",
              "  </div>\n",
              "  "
            ]
          },
          "metadata": {},
          "execution_count": 15
        }
      ]
    },
    {
      "cell_type": "code",
      "source": [
        "def normalization(df, columns):\n",
        "  for column in columns:\n",
        "    df[column] = (df[column] - df[column].min()) / (df[column].max() - df[column].min())\n",
        "  return df\n",
        "\n",
        "def standarization(df, columns):\n",
        "  for column in columns:\n",
        "    df[column] = (df[column] - df[column].mean()) / df[column].std()\n",
        "  return df"
      ],
      "metadata": {
        "id": "9jGhVyr4w8EZ"
      },
      "execution_count": 16,
      "outputs": []
    },
    {
      "cell_type": "code",
      "source": [
        "to_norm_std = ['A2', 'A3', 'A8', 'A11', 'A14', 'A15']\n",
        "\n",
        "df_normalized = df.copy(deep=True)\n",
        "df_normalized = normalization(df_normalized, to_norm_std)\n",
        "\n",
        "df_standardized = df.copy(deep=True)\n",
        "df_standardized = standarization(df_standardized, to_norm_std)"
      ],
      "metadata": {
        "id": "pk1Z04w3xr-L"
      },
      "execution_count": 17,
      "outputs": []
    },
    {
      "cell_type": "code",
      "source": [
        "df.info()"
      ],
      "metadata": {
        "colab": {
          "base_uri": "https://localhost:8080/"
        },
        "id": "4o3lUFetyxSn",
        "outputId": "cb65dc88-2f11-431b-8ddc-4f424bb3c003"
      },
      "execution_count": 19,
      "outputs": [
        {
          "output_type": "stream",
          "name": "stdout",
          "text": [
            "<class 'pandas.core.frame.DataFrame'>\n",
            "RangeIndex: 689 entries, 0 to 688\n",
            "Data columns (total 43 columns):\n",
            " #   Column  Non-Null Count  Dtype  \n",
            "---  ------  --------------  -----  \n",
            " 0   A1      689 non-null    float64\n",
            " 1   A2      689 non-null    float64\n",
            " 2   A3      689 non-null    float64\n",
            " 3   A8      689 non-null    float64\n",
            " 4   A9      689 non-null    float64\n",
            " 5   A10     689 non-null    float64\n",
            " 6   A11     689 non-null    float64\n",
            " 7   A12     689 non-null    float64\n",
            " 8   A14     689 non-null    float64\n",
            " 9   A15     689 non-null    float64\n",
            " 10  A16     689 non-null    float64\n",
            " 11  A4_l    689 non-null    uint8  \n",
            " 12  A4_u    689 non-null    uint8  \n",
            " 13  A4_y    689 non-null    uint8  \n",
            " 14  A5_g    689 non-null    uint8  \n",
            " 15  A5_gg   689 non-null    uint8  \n",
            " 16  A5_p    689 non-null    uint8  \n",
            " 17  A6_aa   689 non-null    uint8  \n",
            " 18  A6_c    689 non-null    uint8  \n",
            " 19  A6_cc   689 non-null    uint8  \n",
            " 20  A6_d    689 non-null    uint8  \n",
            " 21  A6_e    689 non-null    uint8  \n",
            " 22  A6_ff   689 non-null    uint8  \n",
            " 23  A6_i    689 non-null    uint8  \n",
            " 24  A6_j    689 non-null    uint8  \n",
            " 25  A6_k    689 non-null    uint8  \n",
            " 26  A6_m    689 non-null    uint8  \n",
            " 27  A6_q    689 non-null    uint8  \n",
            " 28  A6_r    689 non-null    uint8  \n",
            " 29  A6_w    689 non-null    uint8  \n",
            " 30  A6_x    689 non-null    uint8  \n",
            " 31  A7_bb   689 non-null    uint8  \n",
            " 32  A7_dd   689 non-null    uint8  \n",
            " 33  A7_ff   689 non-null    uint8  \n",
            " 34  A7_h    689 non-null    uint8  \n",
            " 35  A7_j    689 non-null    uint8  \n",
            " 36  A7_n    689 non-null    uint8  \n",
            " 37  A7_o    689 non-null    uint8  \n",
            " 38  A7_v    689 non-null    uint8  \n",
            " 39  A7_z    689 non-null    uint8  \n",
            " 40  A13_g   689 non-null    uint8  \n",
            " 41  A13_p   689 non-null    uint8  \n",
            " 42  A13_s   689 non-null    uint8  \n",
            "dtypes: float64(11), uint8(32)\n",
            "memory usage: 80.9 KB\n"
          ]
        }
      ]
    },
    {
      "cell_type": "code",
      "source": [
        "def cross_validation(model):\n",
        "  #split data\n",
        "  #impude data\n",
        "  #learn model\n",
        "  return"
      ],
      "metadata": {
        "id": "i_cafbV0BYrx"
      },
      "execution_count": null,
      "outputs": []
    }
  ],
  "metadata": {
    "kernelspec": {
      "display_name": "Python 3 (ipykernel)",
      "language": "python",
      "name": "python3"
    },
    "language_info": {
      "codemirror_mode": {
        "name": "ipython",
        "version": 3
      },
      "file_extension": ".py",
      "mimetype": "text/x-python",
      "name": "python",
      "nbconvert_exporter": "python",
      "pygments_lexer": "ipython3",
      "version": "3.9.12"
    },
    "colab": {
      "provenance": []
    }
  },
  "nbformat": 4,
  "nbformat_minor": 0
}