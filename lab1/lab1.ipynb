{
 "cells": [
  {
   "cell_type": "code",
   "execution_count": 37,
   "metadata": {
    "id": "9uy0LFm84ts8"
   },
   "outputs": [],
   "source": [
    "import pandas as pd\n",
    "import numpy as np\n",
    "import matplotlib.pyplot as plt\n",
    "from sklearn.impute import SimpleImputer\n",
    "from sklearn.model_selection import train_test_split, ShuffleSplit\n",
    "from sklearn.preprocessing import OneHotEncoder\n",
    "from pandas.plotting import scatter_matrix\n",
    "from sklearn.ensemble import RandomForestClassifier\n",
    "from sklearn.neighbors import KNeighborsClassifier\n",
    "from sklearn.svm import SVC\n",
    "from sklearn.naive_bayes import GaussianNB\n",
    "from sklearn.preprocessing import MinMaxScaler\n",
    "\n",
    "from sklearn.metrics import precision_recall_curve\n",
    "from sklearn.metrics import roc_curve\n",
    "from sklearn.metrics import roc_auc_score\n",
    "\n",
    "pd.options.mode.chained_assignment = None"
   ]
  },
  {
   "cell_type": "code",
   "execution_count": 2,
   "metadata": {
    "id": "LPbUvnhv4ts-"
   },
   "outputs": [],
   "source": [
    "col_names = [f'A{i}' for i in range(1, 17)]\n",
    "df = pd.read_csv('crx.data', names=col_names, header=0)"
   ]
  },
  {
   "cell_type": "code",
   "execution_count": 24,
   "metadata": {
    "colab": {
     "base_uri": "https://localhost:8080/",
     "height": 206
    },
    "id": "8AVMFNU64ts-",
    "outputId": "341310ec-8d52-4960-cf46-b19eff46303f"
   },
   "outputs": [
    {
     "data": {
      "text/html": [
       "\n",
       "  <div id=\"df-514fd75c-b4c9-44d2-9eda-6acc239e1d65\">\n",
       "    <div class=\"colab-df-container\">\n",
       "      <div>\n",
       "<style scoped>\n",
       "    .dataframe tbody tr th:only-of-type {\n",
       "        vertical-align: middle;\n",
       "    }\n",
       "\n",
       "    .dataframe tbody tr th {\n",
       "        vertical-align: top;\n",
       "    }\n",
       "\n",
       "    .dataframe thead th {\n",
       "        text-align: right;\n",
       "    }\n",
       "</style>\n",
       "<table border=\"1\" class=\"dataframe\">\n",
       "  <thead>\n",
       "    <tr style=\"text-align: right;\">\n",
       "      <th></th>\n",
       "      <th>A1</th>\n",
       "      <th>A2</th>\n",
       "      <th>A3</th>\n",
       "      <th>A4</th>\n",
       "      <th>A5</th>\n",
       "      <th>A6</th>\n",
       "      <th>A7</th>\n",
       "      <th>A8</th>\n",
       "      <th>A9</th>\n",
       "      <th>A10</th>\n",
       "      <th>A11</th>\n",
       "      <th>A12</th>\n",
       "      <th>A13</th>\n",
       "      <th>A14</th>\n",
       "      <th>A15</th>\n",
       "      <th>A16</th>\n",
       "    </tr>\n",
       "  </thead>\n",
       "  <tbody>\n",
       "    <tr>\n",
       "      <th>0</th>\n",
       "      <td>a</td>\n",
       "      <td>58.67</td>\n",
       "      <td>4.460</td>\n",
       "      <td>u</td>\n",
       "      <td>g</td>\n",
       "      <td>q</td>\n",
       "      <td>h</td>\n",
       "      <td>3.04</td>\n",
       "      <td>t</td>\n",
       "      <td>t</td>\n",
       "      <td>6</td>\n",
       "      <td>f</td>\n",
       "      <td>g</td>\n",
       "      <td>00043</td>\n",
       "      <td>560</td>\n",
       "      <td>+</td>\n",
       "    </tr>\n",
       "    <tr>\n",
       "      <th>1</th>\n",
       "      <td>a</td>\n",
       "      <td>24.50</td>\n",
       "      <td>0.500</td>\n",
       "      <td>u</td>\n",
       "      <td>g</td>\n",
       "      <td>q</td>\n",
       "      <td>h</td>\n",
       "      <td>1.50</td>\n",
       "      <td>t</td>\n",
       "      <td>f</td>\n",
       "      <td>0</td>\n",
       "      <td>f</td>\n",
       "      <td>g</td>\n",
       "      <td>00280</td>\n",
       "      <td>824</td>\n",
       "      <td>+</td>\n",
       "    </tr>\n",
       "    <tr>\n",
       "      <th>2</th>\n",
       "      <td>b</td>\n",
       "      <td>27.83</td>\n",
       "      <td>1.540</td>\n",
       "      <td>u</td>\n",
       "      <td>g</td>\n",
       "      <td>w</td>\n",
       "      <td>v</td>\n",
       "      <td>3.75</td>\n",
       "      <td>t</td>\n",
       "      <td>t</td>\n",
       "      <td>5</td>\n",
       "      <td>t</td>\n",
       "      <td>g</td>\n",
       "      <td>00100</td>\n",
       "      <td>3</td>\n",
       "      <td>+</td>\n",
       "    </tr>\n",
       "    <tr>\n",
       "      <th>3</th>\n",
       "      <td>b</td>\n",
       "      <td>20.17</td>\n",
       "      <td>5.625</td>\n",
       "      <td>u</td>\n",
       "      <td>g</td>\n",
       "      <td>w</td>\n",
       "      <td>v</td>\n",
       "      <td>1.71</td>\n",
       "      <td>t</td>\n",
       "      <td>f</td>\n",
       "      <td>0</td>\n",
       "      <td>f</td>\n",
       "      <td>s</td>\n",
       "      <td>00120</td>\n",
       "      <td>0</td>\n",
       "      <td>+</td>\n",
       "    </tr>\n",
       "    <tr>\n",
       "      <th>4</th>\n",
       "      <td>b</td>\n",
       "      <td>32.08</td>\n",
       "      <td>4.000</td>\n",
       "      <td>u</td>\n",
       "      <td>g</td>\n",
       "      <td>m</td>\n",
       "      <td>v</td>\n",
       "      <td>2.50</td>\n",
       "      <td>t</td>\n",
       "      <td>f</td>\n",
       "      <td>0</td>\n",
       "      <td>t</td>\n",
       "      <td>g</td>\n",
       "      <td>00360</td>\n",
       "      <td>0</td>\n",
       "      <td>+</td>\n",
       "    </tr>\n",
       "  </tbody>\n",
       "</table>\n",
       "</div>\n",
       "      <button class=\"colab-df-convert\" onclick=\"convertToInteractive('df-514fd75c-b4c9-44d2-9eda-6acc239e1d65')\"\n",
       "              title=\"Convert this dataframe to an interactive table.\"\n",
       "              style=\"display:none;\">\n",
       "        \n",
       "  <svg xmlns=\"http://www.w3.org/2000/svg\" height=\"24px\"viewBox=\"0 0 24 24\"\n",
       "       width=\"24px\">\n",
       "    <path d=\"M0 0h24v24H0V0z\" fill=\"none\"/>\n",
       "    <path d=\"M18.56 5.44l.94 2.06.94-2.06 2.06-.94-2.06-.94-.94-2.06-.94 2.06-2.06.94zm-11 1L8.5 8.5l.94-2.06 2.06-.94-2.06-.94L8.5 2.5l-.94 2.06-2.06.94zm10 10l.94 2.06.94-2.06 2.06-.94-2.06-.94-.94-2.06-.94 2.06-2.06.94z\"/><path d=\"M17.41 7.96l-1.37-1.37c-.4-.4-.92-.59-1.43-.59-.52 0-1.04.2-1.43.59L10.3 9.45l-7.72 7.72c-.78.78-.78 2.05 0 2.83L4 21.41c.39.39.9.59 1.41.59.51 0 1.02-.2 1.41-.59l7.78-7.78 2.81-2.81c.8-.78.8-2.07 0-2.86zM5.41 20L4 18.59l7.72-7.72 1.47 1.35L5.41 20z\"/>\n",
       "  </svg>\n",
       "      </button>\n",
       "      \n",
       "  <style>\n",
       "    .colab-df-container {\n",
       "      display:flex;\n",
       "      flex-wrap:wrap;\n",
       "      gap: 12px;\n",
       "    }\n",
       "\n",
       "    .colab-df-convert {\n",
       "      background-color: #E8F0FE;\n",
       "      border: none;\n",
       "      border-radius: 50%;\n",
       "      cursor: pointer;\n",
       "      display: none;\n",
       "      fill: #1967D2;\n",
       "      height: 32px;\n",
       "      padding: 0 0 0 0;\n",
       "      width: 32px;\n",
       "    }\n",
       "\n",
       "    .colab-df-convert:hover {\n",
       "      background-color: #E2EBFA;\n",
       "      box-shadow: 0px 1px 2px rgba(60, 64, 67, 0.3), 0px 1px 3px 1px rgba(60, 64, 67, 0.15);\n",
       "      fill: #174EA6;\n",
       "    }\n",
       "\n",
       "    [theme=dark] .colab-df-convert {\n",
       "      background-color: #3B4455;\n",
       "      fill: #D2E3FC;\n",
       "    }\n",
       "\n",
       "    [theme=dark] .colab-df-convert:hover {\n",
       "      background-color: #434B5C;\n",
       "      box-shadow: 0px 1px 3px 1px rgba(0, 0, 0, 0.15);\n",
       "      filter: drop-shadow(0px 1px 2px rgba(0, 0, 0, 0.3));\n",
       "      fill: #FFFFFF;\n",
       "    }\n",
       "  </style>\n",
       "\n",
       "      <script>\n",
       "        const buttonEl =\n",
       "          document.querySelector('#df-514fd75c-b4c9-44d2-9eda-6acc239e1d65 button.colab-df-convert');\n",
       "        buttonEl.style.display =\n",
       "          google.colab.kernel.accessAllowed ? 'block' : 'none';\n",
       "\n",
       "        async function convertToInteractive(key) {\n",
       "          const element = document.querySelector('#df-514fd75c-b4c9-44d2-9eda-6acc239e1d65');\n",
       "          const dataTable =\n",
       "            await google.colab.kernel.invokeFunction('convertToInteractive',\n",
       "                                                     [key], {});\n",
       "          if (!dataTable) return;\n",
       "\n",
       "          const docLinkHtml = 'Like what you see? Visit the ' +\n",
       "            '<a target=\"_blank\" href=https://colab.research.google.com/notebooks/data_table.ipynb>data table notebook</a>'\n",
       "            + ' to learn more about interactive tables.';\n",
       "          element.innerHTML = '';\n",
       "          dataTable['output_type'] = 'display_data';\n",
       "          await google.colab.output.renderOutput(dataTable, element);\n",
       "          const docLink = document.createElement('div');\n",
       "          docLink.innerHTML = docLinkHtml;\n",
       "          element.appendChild(docLink);\n",
       "        }\n",
       "      </script>\n",
       "    </div>\n",
       "  </div>\n",
       "  "
      ],
      "text/plain": [
       "  A1     A2     A3 A4 A5 A6 A7    A8 A9 A10  A11 A12 A13    A14  A15 A16\n",
       "0  a  58.67  4.460  u  g  q  h  3.04  t   t    6   f   g  00043  560   +\n",
       "1  a  24.50  0.500  u  g  q  h  1.50  t   f    0   f   g  00280  824   +\n",
       "2  b  27.83  1.540  u  g  w  v  3.75  t   t    5   t   g  00100    3   +\n",
       "3  b  20.17  5.625  u  g  w  v  1.71  t   f    0   f   s  00120    0   +\n",
       "4  b  32.08  4.000  u  g  m  v  2.50  t   f    0   t   g  00360    0   +"
      ]
     },
     "execution_count": 24,
     "metadata": {},
     "output_type": "execute_result"
    }
   ],
   "source": [
    "df.head()"
   ]
  },
  {
   "cell_type": "code",
   "execution_count": 51,
   "metadata": {
    "id": "ysCB5OL14ttF"
   },
   "outputs": [],
   "source": [
    "def preprocess(df):\n",
    "    df = df.replace('?', np.NaN)\n",
    "    df = df.replace({'A1': {'a': 1, 'b': 0}, 'A9': {'t': 1, 'f': 0}, 'A10': {'t': 1, 'f': 0}, 'A12': {'t': 1, 'f': 0}, 'A16': {'+': 1, '-': 0}})\n",
    "    df = df.astype({'A1': 'boolean', 'A2': 'float64', 'A3': 'float64', 'A8': 'float64', 'A9': 'boolean', 'A10': 'boolean', 'A11': 'Int64', 'A12': 'boolean', 'A14': 'Int64', 'A15': 'Int64', 'A16': 'boolean'})\n",
    "    return df"
   ]
  },
  {
   "cell_type": "code",
   "execution_count": 26,
   "metadata": {
    "id": "LS5Z0HvgANy7"
   },
   "outputs": [],
   "source": [
    "df = preprocess(df)"
   ]
  },
  {
   "cell_type": "code",
   "execution_count": 27,
   "metadata": {
    "colab": {
     "base_uri": "https://localhost:8080/"
    },
    "id": "wENnayaf_19s",
    "outputId": "428227f7-dcd7-4ba4-9ca5-e170a4ca2473"
   },
   "outputs": [
    {
     "name": "stdout",
     "output_type": "stream",
     "text": [
      "<class 'pandas.core.frame.DataFrame'>\n",
      "RangeIndex: 689 entries, 0 to 688\n",
      "Data columns (total 16 columns):\n",
      " #   Column  Non-Null Count  Dtype  \n",
      "---  ------  --------------  -----  \n",
      " 0   A1      677 non-null    boolean\n",
      " 1   A2      677 non-null    float64\n",
      " 2   A3      689 non-null    float64\n",
      " 3   A4      683 non-null    object \n",
      " 4   A5      683 non-null    object \n",
      " 5   A6      680 non-null    object \n",
      " 6   A7      680 non-null    object \n",
      " 7   A8      689 non-null    float64\n",
      " 8   A9      689 non-null    boolean\n",
      " 9   A10     689 non-null    boolean\n",
      " 10  A11     689 non-null    Int64  \n",
      " 11  A12     689 non-null    boolean\n",
      " 12  A13     689 non-null    object \n",
      " 13  A14     676 non-null    Int64  \n",
      " 14  A15     689 non-null    Int64  \n",
      " 15  A16     689 non-null    boolean\n",
      "dtypes: Int64(3), boolean(5), float64(3), object(5)\n",
      "memory usage: 68.1+ KB\n"
     ]
    }
   ],
   "source": [
    "df.info()"
   ]
  },
  {
   "cell_type": "code",
   "execution_count": 28,
   "metadata": {
    "colab": {
     "base_uri": "https://localhost:8080/"
    },
    "id": "VgAHJrv_4ts_",
    "outputId": "4f84d1e5-925c-43bb-933d-40088b3848ec"
   },
   "outputs": [
    {
     "data": {
      "text/plain": [
       "A1     12\n",
       "A2     12\n",
       "A3      0\n",
       "A4      6\n",
       "A5      6\n",
       "A6      9\n",
       "A7      9\n",
       "A8      0\n",
       "A9      0\n",
       "A10     0\n",
       "A11     0\n",
       "A12     0\n",
       "A13     0\n",
       "A14    13\n",
       "A15     0\n",
       "A16     0\n",
       "dtype: int64"
      ]
     },
     "execution_count": 28,
     "metadata": {},
     "output_type": "execute_result"
    }
   ],
   "source": [
    "df.isnull().sum()"
   ]
  },
  {
   "cell_type": "code",
   "execution_count": 29,
   "metadata": {
    "colab": {
     "base_uri": "https://localhost:8080/"
    },
    "id": "QhYRjaJy4ttE",
    "outputId": "726eeb39-fbb3-4599-f4e3-f5a422d668c9"
   },
   "outputs": [
    {
     "data": {
      "text/plain": [
       "37"
      ]
     },
     "execution_count": 29,
     "metadata": {},
     "output_type": "execute_result"
    }
   ],
   "source": [
    "df.isnull().any(axis=1).sum()"
   ]
  },
  {
   "cell_type": "markdown",
   "metadata": {
    "id": "QmHxZNxu5KWv"
   },
   "source": [
    "dane z nullami można wydropić bo jest ich mniej niż 5%, ale uzupełnimy medianą (numeryczne) i modą (kategoryczne), bo to nadal dośc mały zbiór danych"
   ]
  },
  {
   "cell_type": "code",
   "execution_count": 24,
   "metadata": {
    "id": "aM8fN40dBhOu"
   },
   "outputs": [],
   "source": [
    "def handle_nulls(train, test):\n",
    "    imputer_mean = SimpleImputer(missing_values=np.nan, strategy='median')\n",
    "    numerical = ['A1', 'A2', 'A3', 'A8', 'A9', 'A10', 'A11', 'A12', 'A14', 'A15']\n",
    "    train_num = train.loc[:, numerical]\n",
    "    train[numerical] = imputer_mean.fit_transform(train_num)\n",
    "    test_num = test.loc[:, numerical]\n",
    "    test[numerical] = imputer_mean.transform(test_num)\n",
    "\n",
    "    imputer_mode = SimpleImputer(missing_values=np.nan, strategy='most_frequent')\n",
    "    categorical = ['A4', 'A5', 'A6', 'A7', 'A13']\n",
    "    train_categorical = train.loc[:, categorical]\n",
    "    test_categorical = test.loc[:, categorical]\n",
    "    train[categorical] = imputer_mode.fit_transform(train_categorical)\n",
    "    test[categorical] = imputer_mode.transform(test_categorical)\n",
    "\n",
    "    return train, test"
   ]
  },
  {
   "cell_type": "code",
   "execution_count": 5,
   "metadata": {
    "id": "xMGmjk6uHzxN"
   },
   "outputs": [],
   "source": [
    "def one_hot_encoding(train, test):\n",
    "  to_encode = ['A4', 'A5', 'A6', 'A7', 'A13']\n",
    "\n",
    "  train_cat = train[to_encode]\n",
    "  test_cat = test[to_encode]\n",
    "\n",
    "  joined = pd.concat([train_cat, test_cat])\n",
    "\n",
    "  for column in to_encode:\n",
    "    train_dummies = pd.get_dummies(train[[column]], prefix=column)\n",
    "    train = pd.concat([train, train_dummies], axis=1)\n",
    "    train = train.drop([column], axis=1)\n",
    "\n",
    "    test_dummies = pd.get_dummies(test[[column]], prefix=column)\n",
    "    test = pd.concat([test, test_dummies], axis=1)\n",
    "    test = test.drop([column], axis=1)\n",
    "  \n",
    "  cols = train.columns.union(test.columns)\n",
    "  train = train.reindex(cols, axis=1, fill_value=0)\n",
    "  test = test.reindex(cols, axis=1, fill_value=0)\n",
    "\n",
    "  return train, test"
   ]
  },
  {
   "cell_type": "code",
   "execution_count": 32,
   "metadata": {
    "colab": {
     "base_uri": "https://localhost:8080/",
     "height": 729
    },
    "id": "wxoR7JzaD7CG",
    "outputId": "9ad4fa9d-9cc4-48c0-d730-c1a9181e4a76"
   },
   "outputs": [
    {
     "ename": "TypeError",
     "evalue": "ignored",
     "output_type": "error",
     "traceback": [
      "\u001B[0;31m---------------------------------------------------------------------------\u001B[0m",
      "\u001B[0;31mTypeError\u001B[0m                                 Traceback (most recent call last)",
      "\u001B[0;32m<ipython-input-32-06f21fff2d90>\u001B[0m in \u001B[0;36m<cell line: 1>\u001B[0;34m()\u001B[0m\n\u001B[0;32m----> 1\u001B[0;31m \u001B[0mscatter_matrix\u001B[0m\u001B[0;34m(\u001B[0m\u001B[0mdf\u001B[0m\u001B[0;34m)\u001B[0m\u001B[0;34m\u001B[0m\u001B[0;34m\u001B[0m\u001B[0m\n\u001B[0m",
      "\u001B[0;32m/usr/local/lib/python3.9/dist-packages/pandas/plotting/_misc.py\u001B[0m in \u001B[0;36mscatter_matrix\u001B[0;34m(frame, alpha, figsize, ax, grid, diagonal, marker, density_kwds, hist_kwds, range_padding, **kwargs)\u001B[0m\n\u001B[1;32m    142\u001B[0m     \"\"\"\n\u001B[1;32m    143\u001B[0m     \u001B[0mplot_backend\u001B[0m \u001B[0;34m=\u001B[0m \u001B[0m_get_plot_backend\u001B[0m\u001B[0;34m(\u001B[0m\u001B[0;34m\"matplotlib\"\u001B[0m\u001B[0;34m)\u001B[0m\u001B[0;34m\u001B[0m\u001B[0;34m\u001B[0m\u001B[0m\n\u001B[0;32m--> 144\u001B[0;31m     return plot_backend.scatter_matrix(\n\u001B[0m\u001B[1;32m    145\u001B[0m         \u001B[0mframe\u001B[0m\u001B[0;34m=\u001B[0m\u001B[0mframe\u001B[0m\u001B[0;34m,\u001B[0m\u001B[0;34m\u001B[0m\u001B[0;34m\u001B[0m\u001B[0m\n\u001B[1;32m    146\u001B[0m         \u001B[0malpha\u001B[0m\u001B[0;34m=\u001B[0m\u001B[0malpha\u001B[0m\u001B[0;34m,\u001B[0m\u001B[0;34m\u001B[0m\u001B[0;34m\u001B[0m\u001B[0m\n",
      "\u001B[0;32m/usr/local/lib/python3.9/dist-packages/pandas/plotting/_matplotlib/misc.py\u001B[0m in \u001B[0;36mscatter_matrix\u001B[0;34m(frame, alpha, figsize, ax, grid, diagonal, marker, density_kwds, hist_kwds, range_padding, **kwds)\u001B[0m\n\u001B[1;32m     67\u001B[0m         \u001B[0mvalues\u001B[0m \u001B[0;34m=\u001B[0m \u001B[0mdf\u001B[0m\u001B[0;34m[\u001B[0m\u001B[0ma\u001B[0m\u001B[0;34m]\u001B[0m\u001B[0;34m.\u001B[0m\u001B[0mvalues\u001B[0m\u001B[0;34m[\u001B[0m\u001B[0mmask\u001B[0m\u001B[0;34m[\u001B[0m\u001B[0ma\u001B[0m\u001B[0;34m]\u001B[0m\u001B[0;34m.\u001B[0m\u001B[0mvalues\u001B[0m\u001B[0;34m]\u001B[0m\u001B[0;34m\u001B[0m\u001B[0;34m\u001B[0m\u001B[0m\n\u001B[1;32m     68\u001B[0m         \u001B[0mrmin_\u001B[0m\u001B[0;34m,\u001B[0m \u001B[0mrmax_\u001B[0m \u001B[0;34m=\u001B[0m \u001B[0mnp\u001B[0m\u001B[0;34m.\u001B[0m\u001B[0mmin\u001B[0m\u001B[0;34m(\u001B[0m\u001B[0mvalues\u001B[0m\u001B[0;34m)\u001B[0m\u001B[0;34m,\u001B[0m \u001B[0mnp\u001B[0m\u001B[0;34m.\u001B[0m\u001B[0mmax\u001B[0m\u001B[0;34m(\u001B[0m\u001B[0mvalues\u001B[0m\u001B[0;34m)\u001B[0m\u001B[0;34m\u001B[0m\u001B[0;34m\u001B[0m\u001B[0m\n\u001B[0;32m---> 69\u001B[0;31m         \u001B[0mrdelta_ext\u001B[0m \u001B[0;34m=\u001B[0m \u001B[0;34m(\u001B[0m\u001B[0mrmax_\u001B[0m \u001B[0;34m-\u001B[0m \u001B[0mrmin_\u001B[0m\u001B[0;34m)\u001B[0m \u001B[0;34m*\u001B[0m \u001B[0mrange_padding\u001B[0m \u001B[0;34m/\u001B[0m \u001B[0;36m2\u001B[0m\u001B[0;34m\u001B[0m\u001B[0;34m\u001B[0m\u001B[0m\n\u001B[0m\u001B[1;32m     70\u001B[0m         \u001B[0mboundaries_list\u001B[0m\u001B[0;34m.\u001B[0m\u001B[0mappend\u001B[0m\u001B[0;34m(\u001B[0m\u001B[0;34m(\u001B[0m\u001B[0mrmin_\u001B[0m \u001B[0;34m-\u001B[0m \u001B[0mrdelta_ext\u001B[0m\u001B[0;34m,\u001B[0m \u001B[0mrmax_\u001B[0m \u001B[0;34m+\u001B[0m \u001B[0mrdelta_ext\u001B[0m\u001B[0;34m)\u001B[0m\u001B[0;34m)\u001B[0m\u001B[0;34m\u001B[0m\u001B[0;34m\u001B[0m\u001B[0m\n\u001B[1;32m     71\u001B[0m \u001B[0;34m\u001B[0m\u001B[0m\n",
      "\u001B[0;31mTypeError\u001B[0m: numpy boolean subtract, the `-` operator, is not supported, use the bitwise_xor, the `^` operator, or the logical_xor function instead."
     ]
    },
    {
     "data": {
      "image/png": "[encoded data removed]",
      "text/plain": [
       "<Figure size 640x480 with 121 Axes>"
      ]
     },
     "metadata": {},
     "output_type": "display_data"
    }
   ],
   "source": [
    "# scatter_matrix(df)"
   ]
  },
  {
   "cell_type": "code",
   "execution_count": 44,
   "metadata": {
    "id": "9jGhVyr4w8EZ"
   },
   "outputs": [],
   "source": [
    "def normalize(train, test):\n",
    "#     to_norm_std = ['A2', 'A3', 'A8', 'A11', 'A14', 'A15']\n",
    "    scaler = MinMaxScaler()\n",
    "    train = pd.DataFrame(scaler.fit_transform(train), columns=train.columns)\n",
    "    test = pd.DataFrame(scaler.transform(test), columns=test.columns)\n",
    "    return train, test"
   ]
  },
  {
   "cell_type": "code",
   "execution_count": 36,
   "metadata": {
    "colab": {
     "base_uri": "https://localhost:8080/"
    },
    "id": "BARZrofjWyVg",
    "outputId": "2b9e0355-905a-4039-b1e1-89644af86e3f"
   },
   "outputs": [
    {
     "data": {
      "text/plain": [
       "False    383\n",
       "True     306\n",
       "Name: A16, dtype: Int64"
      ]
     },
     "execution_count": 36,
     "metadata": {},
     "output_type": "execute_result"
    }
   ],
   "source": [
    "df['A16'].value_counts()"
   ]
  },
  {
   "cell_type": "markdown",
   "metadata": {
    "id": "SXr-DX2ZWyVi"
   },
   "source": [
    "Zbiór jest zbalansowany więc accuracy będzie odpowiednią metryką\n"
   ]
  },
  {
   "cell_type": "code",
   "execution_count": 60,
   "metadata": {
    "id": "i_cafbV0BYrx"
   },
   "outputs": [],
   "source": [
    "def cross_validation(model, df):\n",
    "    df = preprocess(df)\n",
    "    ss = ShuffleSplit(5, test_size=0.3, random_state=2)\n",
    "    scores = []\n",
    "    y = df['A16']\n",
    "    X = df.drop(columns=['A16'])\n",
    "\n",
    "    for train, test in ss.split(X, y):\n",
    "        X_train = X.iloc[train]\n",
    "        X_test = X.iloc[test]\n",
    "        y_train = y.iloc[train]\n",
    "        y_test = y.iloc[test]\n",
    "        X_train, X_test = handle_nulls(X_train, X_test)\n",
    "        assert X_train.isnull().any(axis=1).sum() + X_test.isnull().any(axis=1).sum() == 0\n",
    "        X_train, X_test = one_hot_encoding(X_train, X_test)\n",
    "        X_train, X_test = normalize(X_train, X_test)\n",
    "        model.fit(X_train, y_train)\n",
    "        scores.append(model.score(X_test, y_test))\n",
    "    \n",
    "    return scores"
   ]
  },
  {
   "cell_type": "code",
   "execution_count": 61,
   "metadata": {
    "colab": {
     "base_uri": "https://localhost:8080/"
    },
    "id": "n3rp-m9zNzF5",
    "outputId": "83689ea7-ea7f-498f-e329-c71b952105bc"
   },
   "outputs": [
    {
     "name": "stdout",
     "output_type": "stream",
     "text": [
      "[0.8792270531400966, 0.8647342995169082, 0.8309178743961353, 0.8985507246376812, 0.8599033816425121]\n",
      "0.8666666666666666\n"
     ]
    }
   ],
   "source": [
    "df = pd.read_csv('crx.data', names=col_names, header=0)\n",
    "rf = RandomForestClassifier()\n",
    "\n",
    "scores = cross_validation(rf, df)\n",
    "print(scores)\n",
    "print(np.average(scores))"
   ]
  },
  {
   "cell_type": "code",
   "execution_count": 62,
   "metadata": {
    "colab": {
     "base_uri": "https://localhost:8080/"
    },
    "id": "cHjcfqnSN1K1",
    "outputId": "7369c35f-99b7-494e-cff1-a3bda0849be6"
   },
   "outputs": [
    {
     "name": "stdout",
     "output_type": "stream",
     "text": [
      "[0.8647342995169082, 0.821256038647343, 0.8019323671497585, 0.8743961352657005, 0.8309178743961353]\n",
      "0.8386473429951691\n"
     ]
    }
   ],
   "source": [
    "df = pd.read_csv('crx.data', names=col_names, header=0)\n",
    "knn = KNeighborsClassifier()\n",
    "\n",
    "scores = cross_validation(knn, df)\n",
    "print(scores)\n",
    "print(np.average(scores))"
   ]
  },
  {
   "cell_type": "code",
   "execution_count": 63,
   "metadata": {},
   "outputs": [
    {
     "name": "stdout",
     "output_type": "stream",
     "text": [
      "[0.6666666666666666, 0.7584541062801933, 0.6908212560386473, 0.642512077294686, 0.5942028985507246]\n",
      "0.6705314009661836\n"
     ]
    }
   ],
   "source": [
    "df = pd.read_csv('crx.data', names=col_names, header=0)\n",
    "clf = GaussianNB()\n",
    "\n",
    "scores = cross_validation(clf, df)\n",
    "print(scores)\n",
    "print(np.average(scores))"
   ]
  },
  {
   "cell_type": "code",
   "execution_count": 64,
   "metadata": {},
   "outputs": [
    {
     "name": "stdout",
     "output_type": "stream",
     "text": [
      "[0.8792270531400966, 0.8454106280193237, 0.8260869565217391, 0.8695652173913043, 0.8454106280193237]\n",
      "0.8531400966183575\n"
     ]
    }
   ],
   "source": [
    "df = pd.read_csv('crx.data', names=col_names, header=0)\n",
    "clf = SVC()\n",
    "\n",
    "scores = cross_validation(clf, df)\n",
    "print(scores)\n",
    "print(np.average(scores))"
   ]
  },
  {
   "cell_type": "markdown",
   "metadata": {},
   "source": [
    "Dla bazowych parametrów najlepiej sprawdzają się lasy losowe a najgorzej Naiwny Bayes"
   ]
  },
  {
   "cell_type": "code",
   "execution_count": null,
   "metadata": {},
   "outputs": [],
   "source": []
  }
 ],
 "metadata": {
  "colab": {
   "provenance": []
  },
  "kernelspec": {
   "display_name": "Python 3 (ipykernel)",
   "language": "python",
   "name": "python3"
  },
  "language_info": {
   "codemirror_mode": {
    "name": "ipython",
    "version": 3
   },
   "file_extension": ".py",
   "mimetype": "text/x-python",
   "name": "python",
   "nbconvert_exporter": "python",
   "pygments_lexer": "ipython3",
   "version": "3.9.12"
  }
 },
 "nbformat": 4,
 "nbformat_minor": 1
}