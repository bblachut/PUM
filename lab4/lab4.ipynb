{
 "cells": [
  {
   "cell_type": "code",
   "execution_count": 31,
   "metadata": {},
   "outputs": [],
   "source": [
    "import pandas as pd\n",
    "from sklearn.datasets import make_blobs\n",
    "from sklearn.cluster import KMeans\n",
    "import matplotlib.pyplot as plt\n",
    "from scipy.stats import shapiro"
   ]
  },
  {
   "cell_type": "code",
   "execution_count": 2,
   "metadata": {},
   "outputs": [
    {
     "name": "stderr",
     "output_type": "stream",
     "text": [
      "C:\\Users\\bogoj\\AppData\\Local\\Temp\\ipykernel_28980\\3006090364.py:1: DtypeWarning: Columns (25,108) have mixed types. Specify dtype option on import or set low_memory=False.\n",
      "  df = pd.read_csv('players.csv')\n"
     ]
    }
   ],
   "source": [
    "df = pd.read_csv('players.csv')"
   ]
  },
  {
   "cell_type": "code",
   "execution_count": 3,
   "metadata": {},
   "outputs": [
    {
     "data": {
      "text/html": [
       "<div>\n",
       "<style scoped>\n",
       "    .dataframe tbody tr th:only-of-type {\n",
       "        vertical-align: middle;\n",
       "    }\n",
       "\n",
       "    .dataframe tbody tr th {\n",
       "        vertical-align: top;\n",
       "    }\n",
       "\n",
       "    .dataframe thead th {\n",
       "        text-align: right;\n",
       "    }\n",
       "</style>\n",
       "<table border=\"1\" class=\"dataframe\">\n",
       "  <thead>\n",
       "    <tr style=\"text-align: right;\">\n",
       "      <th></th>\n",
       "      <th>sofifa_id</th>\n",
       "      <th>player_url</th>\n",
       "      <th>short_name</th>\n",
       "      <th>long_name</th>\n",
       "      <th>player_positions</th>\n",
       "      <th>overall</th>\n",
       "      <th>potential</th>\n",
       "      <th>value_eur</th>\n",
       "      <th>wage_eur</th>\n",
       "      <th>age</th>\n",
       "      <th>...</th>\n",
       "      <th>lcb</th>\n",
       "      <th>cb</th>\n",
       "      <th>rcb</th>\n",
       "      <th>rb</th>\n",
       "      <th>gk</th>\n",
       "      <th>player_face_url</th>\n",
       "      <th>club_logo_url</th>\n",
       "      <th>club_flag_url</th>\n",
       "      <th>nation_logo_url</th>\n",
       "      <th>nation_flag_url</th>\n",
       "    </tr>\n",
       "  </thead>\n",
       "  <tbody>\n",
       "    <tr>\n",
       "      <th>0</th>\n",
       "      <td>158023</td>\n",
       "      <td>https://sofifa.com/player/158023/lionel-messi/...</td>\n",
       "      <td>L. Messi</td>\n",
       "      <td>Lionel Andrés Messi Cuccittini</td>\n",
       "      <td>RW, ST, CF</td>\n",
       "      <td>93</td>\n",
       "      <td>93</td>\n",
       "      <td>78000000.0</td>\n",
       "      <td>320000.0</td>\n",
       "      <td>34</td>\n",
       "      <td>...</td>\n",
       "      <td>50+3</td>\n",
       "      <td>50+3</td>\n",
       "      <td>50+3</td>\n",
       "      <td>61+3</td>\n",
       "      <td>19+3</td>\n",
       "      <td>https://cdn.sofifa.net/players/158/023/22_120.png</td>\n",
       "      <td>https://cdn.sofifa.net/teams/73/60.png</td>\n",
       "      <td>https://cdn.sofifa.net/flags/fr.png</td>\n",
       "      <td>https://cdn.sofifa.net/teams/1369/60.png</td>\n",
       "      <td>https://cdn.sofifa.net/flags/ar.png</td>\n",
       "    </tr>\n",
       "    <tr>\n",
       "      <th>1</th>\n",
       "      <td>188545</td>\n",
       "      <td>https://sofifa.com/player/188545/robert-lewand...</td>\n",
       "      <td>R. Lewandowski</td>\n",
       "      <td>Robert Lewandowski</td>\n",
       "      <td>ST</td>\n",
       "      <td>92</td>\n",
       "      <td>92</td>\n",
       "      <td>119500000.0</td>\n",
       "      <td>270000.0</td>\n",
       "      <td>32</td>\n",
       "      <td>...</td>\n",
       "      <td>60+3</td>\n",
       "      <td>60+3</td>\n",
       "      <td>60+3</td>\n",
       "      <td>61+3</td>\n",
       "      <td>19+3</td>\n",
       "      <td>https://cdn.sofifa.net/players/188/545/22_120.png</td>\n",
       "      <td>https://cdn.sofifa.net/teams/21/60.png</td>\n",
       "      <td>https://cdn.sofifa.net/flags/de.png</td>\n",
       "      <td>https://cdn.sofifa.net/teams/1353/60.png</td>\n",
       "      <td>https://cdn.sofifa.net/flags/pl.png</td>\n",
       "    </tr>\n",
       "    <tr>\n",
       "      <th>2</th>\n",
       "      <td>20801</td>\n",
       "      <td>https://sofifa.com/player/20801/c-ronaldo-dos-...</td>\n",
       "      <td>Cristiano Ronaldo</td>\n",
       "      <td>Cristiano Ronaldo dos Santos Aveiro</td>\n",
       "      <td>ST, LW</td>\n",
       "      <td>91</td>\n",
       "      <td>91</td>\n",
       "      <td>45000000.0</td>\n",
       "      <td>270000.0</td>\n",
       "      <td>36</td>\n",
       "      <td>...</td>\n",
       "      <td>53+3</td>\n",
       "      <td>53+3</td>\n",
       "      <td>53+3</td>\n",
       "      <td>60+3</td>\n",
       "      <td>20+3</td>\n",
       "      <td>https://cdn.sofifa.net/players/020/801/22_120.png</td>\n",
       "      <td>https://cdn.sofifa.net/teams/11/60.png</td>\n",
       "      <td>https://cdn.sofifa.net/flags/gb-eng.png</td>\n",
       "      <td>https://cdn.sofifa.net/teams/1354/60.png</td>\n",
       "      <td>https://cdn.sofifa.net/flags/pt.png</td>\n",
       "    </tr>\n",
       "    <tr>\n",
       "      <th>3</th>\n",
       "      <td>190871</td>\n",
       "      <td>https://sofifa.com/player/190871/neymar-da-sil...</td>\n",
       "      <td>Neymar Jr</td>\n",
       "      <td>Neymar da Silva Santos Júnior</td>\n",
       "      <td>LW, CAM</td>\n",
       "      <td>91</td>\n",
       "      <td>91</td>\n",
       "      <td>129000000.0</td>\n",
       "      <td>270000.0</td>\n",
       "      <td>29</td>\n",
       "      <td>...</td>\n",
       "      <td>50+3</td>\n",
       "      <td>50+3</td>\n",
       "      <td>50+3</td>\n",
       "      <td>62+3</td>\n",
       "      <td>20+3</td>\n",
       "      <td>https://cdn.sofifa.net/players/190/871/22_120.png</td>\n",
       "      <td>https://cdn.sofifa.net/teams/73/60.png</td>\n",
       "      <td>https://cdn.sofifa.net/flags/fr.png</td>\n",
       "      <td>NaN</td>\n",
       "      <td>https://cdn.sofifa.net/flags/br.png</td>\n",
       "    </tr>\n",
       "    <tr>\n",
       "      <th>4</th>\n",
       "      <td>192985</td>\n",
       "      <td>https://sofifa.com/player/192985/kevin-de-bruy...</td>\n",
       "      <td>K. De Bruyne</td>\n",
       "      <td>Kevin De Bruyne</td>\n",
       "      <td>CM, CAM</td>\n",
       "      <td>91</td>\n",
       "      <td>91</td>\n",
       "      <td>125500000.0</td>\n",
       "      <td>350000.0</td>\n",
       "      <td>30</td>\n",
       "      <td>...</td>\n",
       "      <td>69+3</td>\n",
       "      <td>69+3</td>\n",
       "      <td>69+3</td>\n",
       "      <td>75+3</td>\n",
       "      <td>21+3</td>\n",
       "      <td>https://cdn.sofifa.net/players/192/985/22_120.png</td>\n",
       "      <td>https://cdn.sofifa.net/teams/10/60.png</td>\n",
       "      <td>https://cdn.sofifa.net/flags/gb-eng.png</td>\n",
       "      <td>https://cdn.sofifa.net/teams/1325/60.png</td>\n",
       "      <td>https://cdn.sofifa.net/flags/be.png</td>\n",
       "    </tr>\n",
       "    <tr>\n",
       "      <th>...</th>\n",
       "      <td>...</td>\n",
       "      <td>...</td>\n",
       "      <td>...</td>\n",
       "      <td>...</td>\n",
       "      <td>...</td>\n",
       "      <td>...</td>\n",
       "      <td>...</td>\n",
       "      <td>...</td>\n",
       "      <td>...</td>\n",
       "      <td>...</td>\n",
       "      <td>...</td>\n",
       "      <td>...</td>\n",
       "      <td>...</td>\n",
       "      <td>...</td>\n",
       "      <td>...</td>\n",
       "      <td>...</td>\n",
       "      <td>...</td>\n",
       "      <td>...</td>\n",
       "      <td>...</td>\n",
       "      <td>...</td>\n",
       "      <td>...</td>\n",
       "    </tr>\n",
       "    <tr>\n",
       "      <th>19234</th>\n",
       "      <td>261962</td>\n",
       "      <td>https://sofifa.com/player/261962/defu-song/220002</td>\n",
       "      <td>Song Defu</td>\n",
       "      <td>宋德福</td>\n",
       "      <td>CDM</td>\n",
       "      <td>47</td>\n",
       "      <td>52</td>\n",
       "      <td>70000.0</td>\n",
       "      <td>1000.0</td>\n",
       "      <td>22</td>\n",
       "      <td>...</td>\n",
       "      <td>46+2</td>\n",
       "      <td>46+2</td>\n",
       "      <td>46+2</td>\n",
       "      <td>48+2</td>\n",
       "      <td>15+2</td>\n",
       "      <td>https://cdn.sofifa.net/players/261/962/22_120.png</td>\n",
       "      <td>https://cdn.sofifa.net/teams/112541/60.png</td>\n",
       "      <td>https://cdn.sofifa.net/flags/cn.png</td>\n",
       "      <td>NaN</td>\n",
       "      <td>https://cdn.sofifa.net/flags/cn.png</td>\n",
       "    </tr>\n",
       "    <tr>\n",
       "      <th>19235</th>\n",
       "      <td>262040</td>\n",
       "      <td>https://sofifa.com/player/262040/caoimhin-port...</td>\n",
       "      <td>C. Porter</td>\n",
       "      <td>Caoimhin Porter</td>\n",
       "      <td>CM</td>\n",
       "      <td>47</td>\n",
       "      <td>59</td>\n",
       "      <td>110000.0</td>\n",
       "      <td>500.0</td>\n",
       "      <td>19</td>\n",
       "      <td>...</td>\n",
       "      <td>44+2</td>\n",
       "      <td>44+2</td>\n",
       "      <td>44+2</td>\n",
       "      <td>48+2</td>\n",
       "      <td>14+2</td>\n",
       "      <td>https://cdn.sofifa.net/players/262/040/22_120.png</td>\n",
       "      <td>https://cdn.sofifa.net/teams/445/60.png</td>\n",
       "      <td>https://cdn.sofifa.net/flags/ie.png</td>\n",
       "      <td>NaN</td>\n",
       "      <td>https://cdn.sofifa.net/flags/ie.png</td>\n",
       "    </tr>\n",
       "    <tr>\n",
       "      <th>19236</th>\n",
       "      <td>262760</td>\n",
       "      <td>https://sofifa.com/player/262760/nathan-logue/...</td>\n",
       "      <td>N. Logue</td>\n",
       "      <td>Nathan Logue-Cunningham</td>\n",
       "      <td>CM</td>\n",
       "      <td>47</td>\n",
       "      <td>55</td>\n",
       "      <td>100000.0</td>\n",
       "      <td>500.0</td>\n",
       "      <td>21</td>\n",
       "      <td>...</td>\n",
       "      <td>45+2</td>\n",
       "      <td>45+2</td>\n",
       "      <td>45+2</td>\n",
       "      <td>47+2</td>\n",
       "      <td>12+2</td>\n",
       "      <td>https://cdn.sofifa.net/players/262/760/22_120.png</td>\n",
       "      <td>https://cdn.sofifa.net/teams/111131/60.png</td>\n",
       "      <td>https://cdn.sofifa.net/flags/ie.png</td>\n",
       "      <td>NaN</td>\n",
       "      <td>https://cdn.sofifa.net/flags/ie.png</td>\n",
       "    </tr>\n",
       "    <tr>\n",
       "      <th>19237</th>\n",
       "      <td>262820</td>\n",
       "      <td>https://sofifa.com/player/262820/luke-rudden/2...</td>\n",
       "      <td>L. Rudden</td>\n",
       "      <td>Luke Rudden</td>\n",
       "      <td>ST</td>\n",
       "      <td>47</td>\n",
       "      <td>60</td>\n",
       "      <td>110000.0</td>\n",
       "      <td>500.0</td>\n",
       "      <td>19</td>\n",
       "      <td>...</td>\n",
       "      <td>26+2</td>\n",
       "      <td>26+2</td>\n",
       "      <td>26+2</td>\n",
       "      <td>32+2</td>\n",
       "      <td>15+2</td>\n",
       "      <td>https://cdn.sofifa.net/players/262/820/22_120.png</td>\n",
       "      <td>https://cdn.sofifa.net/teams/111131/60.png</td>\n",
       "      <td>https://cdn.sofifa.net/flags/ie.png</td>\n",
       "      <td>NaN</td>\n",
       "      <td>https://cdn.sofifa.net/flags/ie.png</td>\n",
       "    </tr>\n",
       "    <tr>\n",
       "      <th>19238</th>\n",
       "      <td>264540</td>\n",
       "      <td>https://sofifa.com/player/264540/emanuel-lalch...</td>\n",
       "      <td>E. Lalchhanchhuaha</td>\n",
       "      <td>Emanuel Lalchhanchhuaha</td>\n",
       "      <td>CAM</td>\n",
       "      <td>47</td>\n",
       "      <td>60</td>\n",
       "      <td>110000.0</td>\n",
       "      <td>500.0</td>\n",
       "      <td>19</td>\n",
       "      <td>...</td>\n",
       "      <td>41+2</td>\n",
       "      <td>41+2</td>\n",
       "      <td>41+2</td>\n",
       "      <td>45+2</td>\n",
       "      <td>16+2</td>\n",
       "      <td>https://cdn.sofifa.net/players/264/540/22_120.png</td>\n",
       "      <td>https://cdn.sofifa.net/teams/113040/60.png</td>\n",
       "      <td>https://cdn.sofifa.net/flags/in.png</td>\n",
       "      <td>NaN</td>\n",
       "      <td>https://cdn.sofifa.net/flags/in.png</td>\n",
       "    </tr>\n",
       "  </tbody>\n",
       "</table>\n",
       "<p>19239 rows × 110 columns</p>\n",
       "</div>"
      ],
      "text/plain": [
       "       sofifa_id                                         player_url  \\\n",
       "0         158023  https://sofifa.com/player/158023/lionel-messi/...   \n",
       "1         188545  https://sofifa.com/player/188545/robert-lewand...   \n",
       "2          20801  https://sofifa.com/player/20801/c-ronaldo-dos-...   \n",
       "3         190871  https://sofifa.com/player/190871/neymar-da-sil...   \n",
       "4         192985  https://sofifa.com/player/192985/kevin-de-bruy...   \n",
       "...          ...                                                ...   \n",
       "19234     261962  https://sofifa.com/player/261962/defu-song/220002   \n",
       "19235     262040  https://sofifa.com/player/262040/caoimhin-port...   \n",
       "19236     262760  https://sofifa.com/player/262760/nathan-logue/...   \n",
       "19237     262820  https://sofifa.com/player/262820/luke-rudden/2...   \n",
       "19238     264540  https://sofifa.com/player/264540/emanuel-lalch...   \n",
       "\n",
       "               short_name                            long_name  \\\n",
       "0                L. Messi       Lionel Andrés Messi Cuccittini   \n",
       "1          R. Lewandowski                   Robert Lewandowski   \n",
       "2       Cristiano Ronaldo  Cristiano Ronaldo dos Santos Aveiro   \n",
       "3               Neymar Jr        Neymar da Silva Santos Júnior   \n",
       "4            K. De Bruyne                      Kevin De Bruyne   \n",
       "...                   ...                                  ...   \n",
       "19234           Song Defu                                  宋德福   \n",
       "19235           C. Porter                      Caoimhin Porter   \n",
       "19236            N. Logue              Nathan Logue-Cunningham   \n",
       "19237           L. Rudden                          Luke Rudden   \n",
       "19238  E. Lalchhanchhuaha              Emanuel Lalchhanchhuaha   \n",
       "\n",
       "      player_positions  overall  potential    value_eur  wage_eur  age  ...  \\\n",
       "0           RW, ST, CF       93         93   78000000.0  320000.0   34  ...   \n",
       "1                   ST       92         92  119500000.0  270000.0   32  ...   \n",
       "2               ST, LW       91         91   45000000.0  270000.0   36  ...   \n",
       "3              LW, CAM       91         91  129000000.0  270000.0   29  ...   \n",
       "4              CM, CAM       91         91  125500000.0  350000.0   30  ...   \n",
       "...                ...      ...        ...          ...       ...  ...  ...   \n",
       "19234              CDM       47         52      70000.0    1000.0   22  ...   \n",
       "19235               CM       47         59     110000.0     500.0   19  ...   \n",
       "19236               CM       47         55     100000.0     500.0   21  ...   \n",
       "19237               ST       47         60     110000.0     500.0   19  ...   \n",
       "19238              CAM       47         60     110000.0     500.0   19  ...   \n",
       "\n",
       "        lcb    cb   rcb    rb    gk  \\\n",
       "0      50+3  50+3  50+3  61+3  19+3   \n",
       "1      60+3  60+3  60+3  61+3  19+3   \n",
       "2      53+3  53+3  53+3  60+3  20+3   \n",
       "3      50+3  50+3  50+3  62+3  20+3   \n",
       "4      69+3  69+3  69+3  75+3  21+3   \n",
       "...     ...   ...   ...   ...   ...   \n",
       "19234  46+2  46+2  46+2  48+2  15+2   \n",
       "19235  44+2  44+2  44+2  48+2  14+2   \n",
       "19236  45+2  45+2  45+2  47+2  12+2   \n",
       "19237  26+2  26+2  26+2  32+2  15+2   \n",
       "19238  41+2  41+2  41+2  45+2  16+2   \n",
       "\n",
       "                                         player_face_url  \\\n",
       "0      https://cdn.sofifa.net/players/158/023/22_120.png   \n",
       "1      https://cdn.sofifa.net/players/188/545/22_120.png   \n",
       "2      https://cdn.sofifa.net/players/020/801/22_120.png   \n",
       "3      https://cdn.sofifa.net/players/190/871/22_120.png   \n",
       "4      https://cdn.sofifa.net/players/192/985/22_120.png   \n",
       "...                                                  ...   \n",
       "19234  https://cdn.sofifa.net/players/261/962/22_120.png   \n",
       "19235  https://cdn.sofifa.net/players/262/040/22_120.png   \n",
       "19236  https://cdn.sofifa.net/players/262/760/22_120.png   \n",
       "19237  https://cdn.sofifa.net/players/262/820/22_120.png   \n",
       "19238  https://cdn.sofifa.net/players/264/540/22_120.png   \n",
       "\n",
       "                                    club_logo_url  \\\n",
       "0          https://cdn.sofifa.net/teams/73/60.png   \n",
       "1          https://cdn.sofifa.net/teams/21/60.png   \n",
       "2          https://cdn.sofifa.net/teams/11/60.png   \n",
       "3          https://cdn.sofifa.net/teams/73/60.png   \n",
       "4          https://cdn.sofifa.net/teams/10/60.png   \n",
       "...                                           ...   \n",
       "19234  https://cdn.sofifa.net/teams/112541/60.png   \n",
       "19235     https://cdn.sofifa.net/teams/445/60.png   \n",
       "19236  https://cdn.sofifa.net/teams/111131/60.png   \n",
       "19237  https://cdn.sofifa.net/teams/111131/60.png   \n",
       "19238  https://cdn.sofifa.net/teams/113040/60.png   \n",
       "\n",
       "                                 club_flag_url  \\\n",
       "0          https://cdn.sofifa.net/flags/fr.png   \n",
       "1          https://cdn.sofifa.net/flags/de.png   \n",
       "2      https://cdn.sofifa.net/flags/gb-eng.png   \n",
       "3          https://cdn.sofifa.net/flags/fr.png   \n",
       "4      https://cdn.sofifa.net/flags/gb-eng.png   \n",
       "...                                        ...   \n",
       "19234      https://cdn.sofifa.net/flags/cn.png   \n",
       "19235      https://cdn.sofifa.net/flags/ie.png   \n",
       "19236      https://cdn.sofifa.net/flags/ie.png   \n",
       "19237      https://cdn.sofifa.net/flags/ie.png   \n",
       "19238      https://cdn.sofifa.net/flags/in.png   \n",
       "\n",
       "                                nation_logo_url  \\\n",
       "0      https://cdn.sofifa.net/teams/1369/60.png   \n",
       "1      https://cdn.sofifa.net/teams/1353/60.png   \n",
       "2      https://cdn.sofifa.net/teams/1354/60.png   \n",
       "3                                           NaN   \n",
       "4      https://cdn.sofifa.net/teams/1325/60.png   \n",
       "...                                         ...   \n",
       "19234                                       NaN   \n",
       "19235                                       NaN   \n",
       "19236                                       NaN   \n",
       "19237                                       NaN   \n",
       "19238                                       NaN   \n",
       "\n",
       "                           nation_flag_url  \n",
       "0      https://cdn.sofifa.net/flags/ar.png  \n",
       "1      https://cdn.sofifa.net/flags/pl.png  \n",
       "2      https://cdn.sofifa.net/flags/pt.png  \n",
       "3      https://cdn.sofifa.net/flags/br.png  \n",
       "4      https://cdn.sofifa.net/flags/be.png  \n",
       "...                                    ...  \n",
       "19234  https://cdn.sofifa.net/flags/cn.png  \n",
       "19235  https://cdn.sofifa.net/flags/ie.png  \n",
       "19236  https://cdn.sofifa.net/flags/ie.png  \n",
       "19237  https://cdn.sofifa.net/flags/ie.png  \n",
       "19238  https://cdn.sofifa.net/flags/in.png  \n",
       "\n",
       "[19239 rows x 110 columns]"
      ]
     },
     "execution_count": 3,
     "metadata": {},
     "output_type": "execute_result"
    }
   ],
   "source": [
    "df"
   ]
  },
  {
   "cell_type": "code",
   "execution_count": 8,
   "metadata": {},
   "outputs": [],
   "source": [
    "X,y = make_blobs(n_samples=150,n_features=2,centers=10,cluster_std=0.5,shuffle=True,random_state=0)"
   ]
  },
  {
   "cell_type": "code",
   "execution_count": 14,
   "metadata": {},
   "outputs": [],
   "source": [
    "km = KMeans(n_init=10)"
   ]
  },
  {
   "cell_type": "code",
   "execution_count": 15,
   "metadata": {},
   "outputs": [
    {
     "data": {
      "text/html": [
       "<style>#sk-container-id-2 {color: black;background-color: white;}#sk-container-id-2 pre{padding: 0;}#sk-container-id-2 div.sk-toggleable {background-color: white;}#sk-container-id-2 label.sk-toggleable__label {cursor: pointer;display: block;width: 100%;margin-bottom: 0;padding: 0.3em;box-sizing: border-box;text-align: center;}#sk-container-id-2 label.sk-toggleable__label-arrow:before {content: \"▸\";float: left;margin-right: 0.25em;color: #696969;}#sk-container-id-2 label.sk-toggleable__label-arrow:hover:before {color: black;}#sk-container-id-2 div.sk-estimator:hover label.sk-toggleable__label-arrow:before {color: black;}#sk-container-id-2 div.sk-toggleable__content {max-height: 0;max-width: 0;overflow: hidden;text-align: left;background-color: #f0f8ff;}#sk-container-id-2 div.sk-toggleable__content pre {margin: 0.2em;color: black;border-radius: 0.25em;background-color: #f0f8ff;}#sk-container-id-2 input.sk-toggleable__control:checked~div.sk-toggleable__content {max-height: 200px;max-width: 100%;overflow: auto;}#sk-container-id-2 input.sk-toggleable__control:checked~label.sk-toggleable__label-arrow:before {content: \"▾\";}#sk-container-id-2 div.sk-estimator input.sk-toggleable__control:checked~label.sk-toggleable__label {background-color: #d4ebff;}#sk-container-id-2 div.sk-label input.sk-toggleable__control:checked~label.sk-toggleable__label {background-color: #d4ebff;}#sk-container-id-2 input.sk-hidden--visually {border: 0;clip: rect(1px 1px 1px 1px);clip: rect(1px, 1px, 1px, 1px);height: 1px;margin: -1px;overflow: hidden;padding: 0;position: absolute;width: 1px;}#sk-container-id-2 div.sk-estimator {font-family: monospace;background-color: #f0f8ff;border: 1px dotted black;border-radius: 0.25em;box-sizing: border-box;margin-bottom: 0.5em;}#sk-container-id-2 div.sk-estimator:hover {background-color: #d4ebff;}#sk-container-id-2 div.sk-parallel-item::after {content: \"\";width: 100%;border-bottom: 1px solid gray;flex-grow: 1;}#sk-container-id-2 div.sk-label:hover label.sk-toggleable__label {background-color: #d4ebff;}#sk-container-id-2 div.sk-serial::before {content: \"\";position: absolute;border-left: 1px solid gray;box-sizing: border-box;top: 0;bottom: 0;left: 50%;z-index: 0;}#sk-container-id-2 div.sk-serial {display: flex;flex-direction: column;align-items: center;background-color: white;padding-right: 0.2em;padding-left: 0.2em;position: relative;}#sk-container-id-2 div.sk-item {position: relative;z-index: 1;}#sk-container-id-2 div.sk-parallel {display: flex;align-items: stretch;justify-content: center;background-color: white;position: relative;}#sk-container-id-2 div.sk-item::before, #sk-container-id-2 div.sk-parallel-item::before {content: \"\";position: absolute;border-left: 1px solid gray;box-sizing: border-box;top: 0;bottom: 0;left: 50%;z-index: -1;}#sk-container-id-2 div.sk-parallel-item {display: flex;flex-direction: column;z-index: 1;position: relative;background-color: white;}#sk-container-id-2 div.sk-parallel-item:first-child::after {align-self: flex-end;width: 50%;}#sk-container-id-2 div.sk-parallel-item:last-child::after {align-self: flex-start;width: 50%;}#sk-container-id-2 div.sk-parallel-item:only-child::after {width: 0;}#sk-container-id-2 div.sk-dashed-wrapped {border: 1px dashed gray;margin: 0 0.4em 0.5em 0.4em;box-sizing: border-box;padding-bottom: 0.4em;background-color: white;}#sk-container-id-2 div.sk-label label {font-family: monospace;font-weight: bold;display: inline-block;line-height: 1.2em;}#sk-container-id-2 div.sk-label-container {text-align: center;}#sk-container-id-2 div.sk-container {/* jupyter's `normalize.less` sets `[hidden] { display: none; }` but bootstrap.min.css set `[hidden] { display: none !important; }` so we also need the `!important` here to be able to override the default hidden behavior on the sphinx rendered scikit-learn.org. See: https://github.com/scikit-learn/scikit-learn/issues/21755 */display: inline-block !important;position: relative;}#sk-container-id-2 div.sk-text-repr-fallback {display: none;}</style><div id=\"sk-container-id-2\" class=\"sk-top-container\"><div class=\"sk-text-repr-fallback\"><pre>KMeans(n_init=10)</pre><b>In a Jupyter environment, please rerun this cell to show the HTML representation or trust the notebook. <br />On GitHub, the HTML representation is unable to render, please try loading this page with nbviewer.org.</b></div><div class=\"sk-container\" hidden><div class=\"sk-item\"><div class=\"sk-estimator sk-toggleable\"><input class=\"sk-toggleable__control sk-hidden--visually\" id=\"sk-estimator-id-2\" type=\"checkbox\" checked><label for=\"sk-estimator-id-2\" class=\"sk-toggleable__label sk-toggleable__label-arrow\">KMeans</label><div class=\"sk-toggleable__content\"><pre>KMeans(n_init=10)</pre></div></div></div></div></div>"
      ],
      "text/plain": [
       "KMeans(n_init=10)"
      ]
     },
     "execution_count": 15,
     "metadata": {},
     "output_type": "execute_result"
    }
   ],
   "source": [
    "km.fit(X)"
   ]
  },
  {
   "cell_type": "code",
   "execution_count": 18,
   "metadata": {},
   "outputs": [
    {
     "data": {
      "text/plain": [
       "array([1, 0, 6, 2, 5, 2, 4, 0, 2, 1, 1, 6, 5, 1, 1, 6, 6, 1, 1, 5, 1, 3,\n",
       "       5, 3, 7, 0, 7, 4, 1, 3, 1, 7, 6, 4, 3, 6, 0, 0, 7, 1, 0, 0, 6, 7,\n",
       "       0, 3, 7, 6, 6, 7, 1, 1, 4, 1, 1, 1, 6, 2, 5, 5, 5, 4, 0, 5, 5, 3,\n",
       "       0, 7, 4, 4, 4, 2, 1, 4, 4, 4, 2, 4, 6, 7, 3, 4, 7, 6, 1, 1, 2, 1,\n",
       "       5, 6, 4, 4, 4, 1, 6, 5, 1, 2, 4, 4, 2, 1, 1, 2, 2, 5, 4, 3, 2, 5,\n",
       "       1, 4, 3, 7, 0, 1, 7, 4, 4, 2, 1, 3, 1, 4, 4, 1, 4, 3, 3, 3, 7, 3,\n",
       "       4, 0, 0, 0, 2, 5, 5, 6, 1, 7, 7, 4, 3, 2, 0, 4, 4, 4])"
      ]
     },
     "execution_count": 18,
     "metadata": {},
     "output_type": "execute_result"
    }
   ],
   "source": [
    "km.labels_"
   ]
  },
  {
   "cell_type": "code",
   "execution_count": 19,
   "metadata": {},
   "outputs": [
    {
     "data": {
      "text/plain": [
       "array([[-9.8012195 ,  6.69848232],\n",
       "       [-0.27669223,  3.7191277 ],\n",
       "       [-8.61357809, -8.37918497],\n",
       "       [ 9.20979187, -2.23316647],\n",
       "       [ 0.16534059,  8.32035634],\n",
       "       [ 1.84047431,  0.77684836],\n",
       "       [ 5.49108568,  7.48404993],\n",
       "       [ 5.72273838,  0.37028426]])"
      ]
     },
     "execution_count": 19,
     "metadata": {},
     "output_type": "execute_result"
    }
   ],
   "source": [
    "km.cluster_centers_"
   ]
  },
  {
   "cell_type": "code",
   "execution_count": 27,
   "metadata": {},
   "outputs": [
    {
     "data": {
      "text/plain": [
       "[<matplotlib.lines.Line2D at 0x1e06fda5970>]"
      ]
     },
     "execution_count": 27,
     "metadata": {},
     "output_type": "execute_result"
    },
    {
     "data": {
      "image/png": "[encoded data removed]",
      "text/plain": [
       "<Figure size 640x480 with 1 Axes>"
      ]
     },
     "metadata": {},
     "output_type": "display_data"
    }
   ],
   "source": [
    "results = []\n",
    "for k in range(1, 31):\n",
    "    km = KMeans(n_clusters=k,n_init=10).fit(X)\n",
    "    results.append(km.score(X))\n",
    "    \n",
    "plt.plot(range(1, 31) ,results)"
   ]
  },
  {
   "cell_type": "code",
   "execution_count": 28,
   "metadata": {},
   "outputs": [
    {
     "data": {
      "text/plain": [
       "<matplotlib.collections.PathCollection at 0x1e06fdd8550>"
      ]
     },
     "execution_count": 28,
     "metadata": {},
     "output_type": "execute_result"
    },
    {
     "data": {
      "image/png": "[encoded data removed]",
      "text/plain": [
       "<Figure size 640x480 with 1 Axes>"
      ]
     },
     "metadata": {},
     "output_type": "display_data"
    }
   ],
   "source": [
    "plt.scatter(X[:, 0], X[:, 1], c=y, cmap='viridis')"
   ]
  },
  {
   "cell_type": "code",
   "execution_count": 29,
   "metadata": {},
   "outputs": [
    {
     "data": {
      "text/plain": [
       "<matplotlib.collections.PathCollection at 0x1e06fe81eb0>"
      ]
     },
     "execution_count": 29,
     "metadata": {},
     "output_type": "execute_result"
    },
    {
     "data": {
      "image/png": "[encoded data removed]",
      "text/plain": [
       "<Figure size 640x480 with 1 Axes>"
      ]
     },
     "metadata": {},
     "output_type": "display_data"
    }
   ],
   "source": [
    "km = KMeans(n_clusters=7,n_init=10).fit(X)\n",
    "y2 = km.labels_\n",
    "plt.scatter(X[:, 0], X[:, 1], c=y2, cmap='viridis')"
   ]
  },
  {
   "cell_type": "code",
   "execution_count": null,
   "metadata": {},
   "outputs": [],
   "source": [
    "def recursive_clustering(X):\n",
    "    km = KMeans(n_clusters=2,n_init=10).fit(X)\n",
    "    X0 = [x if y == 0 for x, y in zip(X, km.lables_)]\n",
    "    X1 = [x if y == 1 for x, y in zip(X, km.lables_)]\n",
    "    \n",
    "    dist0 = [np.linalg.norm(x, km.cluster_centers_[0]) for x in X0]\n",
    "    dist1 = [np.linalg.norm(x, km.cluster_centers_[1]) for x in X1]\n",
    "    \n",
    "    stat, p = shapiro(dist0)\n",
    "    if p > 0.05:\n",
    "        #git\n",
    "        pass\n",
    "    else:\n",
    "        recursive_clustering(X0)#przypisać\n",
    "    #dodać returny"
   ]
  }
 ],
 "metadata": {
  "kernelspec": {
   "display_name": "Python 3 (ipykernel)",
   "language": "python",
   "name": "python3"
  },
  "language_info": {
   "codemirror_mode": {
    "name": "ipython",
    "version": 3
   },
   "file_extension": ".py",
   "mimetype": "text/x-python",
   "name": "python",
   "nbconvert_exporter": "python",
   "pygments_lexer": "ipython3",
   "version": "3.9.12"
  }
 },
 "nbformat": 4,
 "nbformat_minor": 1
}