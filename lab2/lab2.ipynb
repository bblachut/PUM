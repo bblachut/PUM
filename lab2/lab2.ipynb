{
 "cells": [
  {
   "cell_type": "code",
   "execution_count": 25,
   "metadata": {},
   "outputs": [],
   "source": [
    "from PIL import Image\n",
    "import numpy as np\n",
    "import glob\n",
    "\n",
    "image_list = []\n",
    "i = 0\n",
    "for f in glob.glob('./PlantDoc-Dataset/test/tomato_leaf_late_blight/*.jpg'):\n",
    "    im = Image.open(f).convert('L')\n",
    "    im = im.resize((224,224))\n",
    "    if i == 0:\n",
    "        im.show()\n",
    "        i+=1\n",
    "    np_im = np.asarray(im)\n",
    "    np.reshape(np_im, (-1,))\n",
    "    print(np)\n",
    "    image_list.append(np_im)\n"
   ]
  },
  {
   "cell_type": "code",
   "execution_count": 26,
   "metadata": {},
   "outputs": [
    {
     "data": {
      "text/plain": [
       "(224, 224)"
      ]
     },
     "execution_count": 26,
     "metadata": {},
     "output_type": "execute_result"
    }
   ],
   "source": [
    "image_list[0].shape"
   ]
  }
 ],
 "metadata": {
  "kernelspec": {
   "display_name": "Python 3 (ipykernel)",
   "language": "python",
   "name": "python3"
  },
  "language_info": {
   "codemirror_mode": {
    "name": "ipython",
    "version": 3
   },
   "file_extension": ".py",
   "mimetype": "text/x-python",
   "name": "python",
   "nbconvert_exporter": "python",
   "pygments_lexer": "ipython3",
   "version": "3.9.12"
  }
 },
 "nbformat": 4,
 "nbformat_minor": 1
}