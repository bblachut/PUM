{
  "cells": [
    {
      "cell_type": "code",
      "execution_count": 42,
      "metadata": {
        "collapsed": true,
        "id": "ZdHgNar6uA6Q"
      },
      "outputs": [],
      "source": [
        "from scipy.io import loadmat\n",
        "import matplotlib.pyplot as plt\n",
        "import numpy as np\n",
        "from sklearn.feature_selection import RFE\n",
        "from sklearn.linear_model import LogisticRegression\n",
        "from sklearn.ensemble import RandomForestClassifier"
      ]
    },
    {
      "cell_type": "code",
      "source": [
        "data = loadmat(\"Zadanie5-leukemia.mat\")"
      ],
      "metadata": {
        "id": "Z5-WxO9subnD"
      },
      "execution_count": 4,
      "outputs": []
    },
    {
      "cell_type": "code",
      "source": [
        "print(data.keys())"
      ],
      "metadata": {
        "colab": {
          "base_uri": "https://localhost:8080/"
        },
        "id": "_1Hd-kliucBt",
        "outputId": "92c848fa-d9e1-4fb8-a952-ef8b709c3ed0"
      },
      "execution_count": 14,
      "outputs": [
        {
          "output_type": "stream",
          "name": "stdout",
          "text": [
            "dict_keys(['__header__', '__version__', '__globals__', 'X', 'Y'])\n"
          ]
        }
      ]
    },
    {
      "cell_type": "code",
      "source": [
        "print(data[\"X\"])\n",
        "print(len(data[\"X\"]), \"x\", len(data[\"X\"][0]))\n",
        "data[\"Y\"] = np.ravel(data[\"Y\"])\n",
        "print(data[\"Y\"])\n",
        "print(len(data[\"Y\"]))"
      ],
      "metadata": {
        "colab": {
          "base_uri": "https://localhost:8080/"
        },
        "id": "qXrX1iXUucEL",
        "outputId": "53c2e21e-71b3-4f77-e325-c730ff49d86d"
      },
      "execution_count": 52,
      "outputs": [
        {
          "output_type": "stream",
          "name": "stdout",
          "text": [
            "[[-2  2  0 ...  2  0  0]\n",
            " [ 0  0  0 ...  0 -2  0]\n",
            " [-2 -2  0 ...  2  0  0]\n",
            " ...\n",
            " [ 2  2  0 ...  0  0  2]\n",
            " [ 0 -2  0 ...  0  0 -2]\n",
            " [ 2 -2  0 ...  0  0 -2]]\n",
            "72 x 7070\n",
            "[-1 -1 -1 -1 -1 -1 -1 -1 -1 -1 -1 -1 -1 -1 -1 -1 -1 -1 -1 -1 -1 -1 -1 -1\n",
            " -1 -1 -1  1  1  1  1  1  1  1  1  1  1  1 -1 -1 -1 -1 -1 -1 -1 -1 -1 -1\n",
            " -1 -1 -1 -1 -1 -1 -1 -1 -1 -1  1  1  1  1  1  1  1  1  1  1  1  1  1  1]\n",
            "72\n"
          ]
        }
      ]
    },
    {
      "cell_type": "code",
      "source": [],
      "metadata": {
        "colab": {
          "base_uri": "https://localhost:8080/"
        },
        "id": "Oifiewzv45nJ",
        "outputId": "c1a6588b-d131-40df-f2a0-4f3cbb4f98fa"
      },
      "execution_count": 50,
      "outputs": [
        {
          "output_type": "execute_result",
          "data": {
            "text/plain": [
              "array([-1, -1, -1, -1, -1, -1, -1, -1, -1, -1, -1, -1, -1, -1, -1, -1, -1,\n",
              "       -1, -1, -1, -1, -1, -1, -1, -1, -1, -1,  1,  1,  1,  1,  1,  1,  1,\n",
              "        1,  1,  1,  1, -1, -1, -1, -1, -1, -1, -1, -1, -1, -1, -1, -1, -1,\n",
              "       -1, -1, -1, -1, -1, -1, -1,  1,  1,  1,  1,  1,  1,  1,  1,  1,  1,\n",
              "        1,  1,  1,  1], dtype=int16)"
            ]
          },
          "metadata": {},
          "execution_count": 50
        }
      ]
    },
    {
      "cell_type": "code",
      "source": [
        "variances = np.var(data[\"X\"], 0)\n",
        "plt.hist(variances)\n",
        "plt.show()"
      ],
      "metadata": {
        "colab": {
          "base_uri": "https://localhost:8080/",
          "height": 430
        },
        "id": "ftG2IhsducGi",
        "outputId": "e7828e8a-7ba6-40a8-c036-774bfbb03f80"
      },
      "execution_count": 39,
      "outputs": [
        {
          "output_type": "display_data",
          "data": {
            "text/plain": [
              "<Figure size 640x480 with 1 Axes>"
            ],
            "image/png": "[encoded data removed]"
          },
          "metadata": {}
        }
      ]
    },
    {
      "cell_type": "code",
      "source": [
        "cutoff = 1.5"
      ],
      "metadata": {
        "id": "vd-bx2ncucI2"
      },
      "execution_count": 43,
      "outputs": []
    },
    {
      "cell_type": "code",
      "source": [
        "  # TODO: cutoff"
      ],
      "metadata": {
        "id": "BymqIk-IucK3"
      },
      "execution_count": 44,
      "outputs": []
    },
    {
      "cell_type": "code",
      "source": [
        "estimators = [LogisticRegression(), RandomForestClassifier()]\n",
        "results = []"
      ],
      "metadata": {
        "id": "Hyt9SywP2nPM"
      },
      "execution_count": 54,
      "outputs": []
    },
    {
      "cell_type": "code",
      "source": [
        "for estimator in estimators:\n",
        "  selector = RFE(estimator, n_features_to_select = len(data[\"Y\"])//3)\n",
        "  selector = selector.fit(data[\"X\"], data[\"Y\"])\n",
        "  selector.support_\n",
        "  selector.ranking_\n",
        "  results.append(selector)"
      ],
      "metadata": {
        "id": "RyWwSoPz21Jj"
      },
      "execution_count": null,
      "outputs": []
    },
    {
      "cell_type": "code",
      "source": [],
      "metadata": {
        "id": "HVDO5k7C6I_i"
      },
      "execution_count": null,
      "outputs": []
    }
  ],
  "metadata": {
    "kernelspec": {
      "display_name": "Python 3",
      "language": "python",
      "name": "python3"
    },
    "language_info": {
      "codemirror_mode": {
        "name": "ipython",
        "version": 2
      },
      "file_extension": ".py",
      "mimetype": "text/x-python",
      "name": "python",
      "nbconvert_exporter": "python",
      "pygments_lexer": "ipython2",
      "version": "2.7.6"
    },
    "colab": {
      "provenance": []
    }
  },
  "nbformat": 4,
  "nbformat_minor": 0
}